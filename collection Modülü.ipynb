{
 "cells": [
  {
   "cell_type": "code",
   "execution_count": 2,
   "id": "60afadac",
   "metadata": {},
   "outputs": [],
   "source": [
    "from collections import Counter     # sadece Counter paketini yükledik.(tekrarları buluruz.)"
   ]
  },
  {
   "cell_type": "code",
   "execution_count": 3,
   "id": "32373e85",
   "metadata": {},
   "outputs": [],
   "source": [
    "import random"
   ]
  },
  {
   "cell_type": "code",
   "execution_count": 4,
   "id": "7e36c906",
   "metadata": {},
   "outputs": [
    {
     "name": "stdout",
     "output_type": "stream",
     "text": [
      "[[0, 4, 1, 6], [0, 3, 9, 8], [5, 6, 2, 1], [7, 6, 0, 2]]\n",
      "[0, 4, 1, 6, 0, 3, 9, 8, 5, 6, 2, 1, 7, 6, 0, 2]\n"
     ]
    }
   ],
   "source": [
    "list1 = random.sample(range(10), k = 4)\n",
    "list2 = random.sample(range(10), k = 4)\n",
    "list3 = random.sample(range(10), k = 4)\n",
    "list4 = random.sample(range(10), k = 4)\n",
    "\n",
    "liste_listesi = [list1,list2, list3, list4]\n",
    "list_toplam = list1 + list2 + list3 + list4\n",
    "\n",
    "print(liste_listesi)\n",
    "print(list_toplam)"
   ]
  },
  {
   "cell_type": "code",
   "execution_count": 5,
   "id": "32119318",
   "metadata": {},
   "outputs": [
    {
     "data": {
      "text/plain": [
       "Counter({0: 3, 6: 3, 1: 2, 2: 2, 4: 1, 3: 1, 9: 1, 8: 1, 5: 1, 7: 1})"
      ]
     },
     "execution_count": 5,
     "metadata": {},
     "output_type": "execute_result"
    }
   ],
   "source": [
    "Counter(list_toplam)   # hangisinden kaç tane olduğunu gösterir."
   ]
  },
  {
   "cell_type": "code",
   "execution_count": 6,
   "id": "4b5a1790",
   "metadata": {},
   "outputs": [
    {
     "data": {
      "text/plain": [
       "Counter({'s': 4, 'd': 4, 'a': 2, 'f': 2, 'r': 1})"
      ]
     },
     "execution_count": 6,
     "metadata": {},
     "output_type": "execute_result"
    }
   ],
   "source": [
    "Counter(\"sadsdfsrdfasd\")"
   ]
  },
  {
   "cell_type": "code",
   "execution_count": 7,
   "id": "659388fc",
   "metadata": {},
   "outputs": [
    {
     "name": "stdout",
     "output_type": "stream",
     "text": [
      "Yine bana gel\n",
      "Yana yana yine beni sev\n",
      "Yine bana gel\n",
      "Yana yana yine beni sev\n"
     ]
    }
   ],
   "source": [
    "sarki = \"\"\"Yine bana gel\n",
    "Yana yana yine beni sev\n",
    "Yine bana gel\n",
    "Yana yana yine beni sev\"\"\"\n",
    "print(sarki)"
   ]
  },
  {
   "cell_type": "code",
   "execution_count": 8,
   "id": "8e9ff988",
   "metadata": {},
   "outputs": [
    {
     "data": {
      "text/plain": [
       "Counter({'n': 12,\n",
       "         ' ': 12,\n",
       "         'a': 12,\n",
       "         'e': 10,\n",
       "         'i': 6,\n",
       "         'Y': 4,\n",
       "         'b': 4,\n",
       "         'y': 4,\n",
       "         '\\n': 3,\n",
       "         'g': 2,\n",
       "         'l': 2,\n",
       "         's': 2,\n",
       "         'v': 2})"
      ]
     },
     "execution_count": 8,
     "metadata": {},
     "output_type": "execute_result"
    }
   ],
   "source": [
    "Counter(sarki)"
   ]
  },
  {
   "cell_type": "code",
   "execution_count": 9,
   "id": "4b12bd5f",
   "metadata": {},
   "outputs": [
    {
     "data": {
      "text/plain": [
       "Counter({'Yine': 2,\n",
       "         'bana': 2,\n",
       "         'gel': 2,\n",
       "         'Yana': 2,\n",
       "         'yana': 2,\n",
       "         'yine': 2,\n",
       "         'beni': 2,\n",
       "         'sev': 2})"
      ]
     },
     "execution_count": 9,
     "metadata": {},
     "output_type": "execute_result"
    }
   ],
   "source": [
    "Counter(sarki.split()) #.split i daha önce işlemiştik. kelime kelime"
   ]
  },
  {
   "cell_type": "code",
   "execution_count": 10,
   "id": "e50ba83c",
   "metadata": {},
   "outputs": [
    {
     "data": {
      "text/plain": [
       "'yine bana gel\\nyana yana yine beni sev\\nyine bana gel\\nyana yana yine beni sev'"
      ]
     },
     "execution_count": 10,
     "metadata": {},
     "output_type": "execute_result"
    }
   ],
   "source": [
    "sarki.lower() #tümünü küçük harf yaptık"
   ]
  },
  {
   "cell_type": "code",
   "execution_count": 11,
   "id": "61c6859c",
   "metadata": {},
   "outputs": [
    {
     "data": {
      "text/plain": [
       "['yine',\n",
       " 'bana',\n",
       " 'gel',\n",
       " 'yana',\n",
       " 'yana',\n",
       " 'yine',\n",
       " 'beni',\n",
       " 'sev',\n",
       " 'yine',\n",
       " 'bana',\n",
       " 'gel',\n",
       " 'yana',\n",
       " 'yana',\n",
       " 'yine',\n",
       " 'beni',\n",
       " 'sev']"
      ]
     },
     "execution_count": 11,
     "metadata": {},
     "output_type": "execute_result"
    }
   ],
   "source": [
    "sarki.lower().split()"
   ]
  },
  {
   "cell_type": "code",
   "execution_count": 12,
   "id": "469bb9e8",
   "metadata": {},
   "outputs": [
    {
     "data": {
      "text/plain": [
       "Counter({'yine': 4, 'yana': 4, 'bana': 2, 'gel': 2, 'beni': 2, 'sev': 2})"
      ]
     },
     "execution_count": 12,
     "metadata": {},
     "output_type": "execute_result"
    }
   ],
   "source": [
    "Counter(sarki.lower().split())"
   ]
  },
  {
   "cell_type": "code",
   "execution_count": 15,
   "id": "683d4861",
   "metadata": {},
   "outputs": [
    {
     "data": {
      "text/plain": [
       "[('yine', 4)]"
      ]
     },
     "execution_count": 15,
     "metadata": {},
     "output_type": "execute_result"
    }
   ],
   "source": [
    "Counter(sarki.lower().split()).most_common(1) # .most_common(1) en fazla kullanılan kelimeyi bulur."
   ]
  },
  {
   "cell_type": "code",
   "execution_count": 19,
   "id": "ba9ac92f",
   "metadata": {},
   "outputs": [
    {
     "data": {
      "text/plain": [
       "[('yine', 4), ('yana', 4), ('bana', 2)]"
      ]
     },
     "execution_count": 19,
     "metadata": {},
     "output_type": "execute_result"
    }
   ],
   "source": [
    "Counter(sarki.lower().split()).most_common(3)"
   ]
  },
  {
   "cell_type": "code",
   "execution_count": null,
   "id": "bd000bf7",
   "metadata": {},
   "outputs": [],
   "source": []
  },
  {
   "cell_type": "code",
   "execution_count": null,
   "id": "05726e16",
   "metadata": {},
   "outputs": [],
   "source": []
  }
 ],
 "metadata": {
  "kernelspec": {
   "display_name": "Python 3 (ipykernel)",
   "language": "python",
   "name": "python3"
  },
  "language_info": {
   "codemirror_mode": {
    "name": "ipython",
    "version": 3
   },
   "file_extension": ".py",
   "mimetype": "text/x-python",
   "name": "python",
   "nbconvert_exporter": "python",
   "pygments_lexer": "ipython3",
   "version": "3.11.5"
  }
 },
 "nbformat": 4,
 "nbformat_minor": 5
}
