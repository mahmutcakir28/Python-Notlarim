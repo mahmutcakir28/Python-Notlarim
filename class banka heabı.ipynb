{
 "cells": [
  {
   "cell_type": "code",
   "execution_count": 1,
   "id": "089c52cd",
   "metadata": {},
   "outputs": [],
   "source": [
    "class BankaHesabi:\n",
    "    def __init__(self, hesap_sahibi, hesap_numarasi, bakiye=0):\n",
    "        self.hesap_sahibi = hesap_sahibi\n",
    "        self.hesap_numarasi = hesap_numarasi\n",
    "        self.bakiye = bakiye\n",
    "\n",
    "    def para_yatir(self, miktar):\n",
    "        self.bakiye += miktar\n",
    "        print(f\"{miktar} TL yatırıldı. Yeni bakiye: {self.bakiye} TL\")\n",
    "\n",
    "    def para_cek(self, miktar):\n",
    "        if self.bakiye >= miktar:\n",
    "            self.bakiye -= miktar\n",
    "            print(f\"{miktar} TL çekildi. Yeni bakiye: {self.bakiye} TL\")\n",
    "        else:\n",
    "            print(\"Yetersiz bakiye. İşlem gerçekleştirilemedi.\")\n",
    "\n",
    "    def bakiye_sorgula(self):\n",
    "        print(f\"Aktif bakiyeniz: {self.bakiye} TL\")\n"
   ]
  },
  {
   "cell_type": "code",
   "execution_count": 3,
   "id": "4125639c",
   "metadata": {},
   "outputs": [],
   "source": [
    "hesap1 = BankaHesabi(\"Ahmet Yılmaz\", \"123456789\", 1000)"
   ]
  },
  {
   "cell_type": "code",
   "execution_count": 4,
   "id": "48e523e4",
   "metadata": {},
   "outputs": [
    {
     "name": "stdout",
     "output_type": "stream",
     "text": [
      "Aktif bakiyeniz: 1000 TL\n"
     ]
    }
   ],
   "source": [
    "hesap1.bakiye_sorgula()"
   ]
  },
  {
   "cell_type": "code",
   "execution_count": 5,
   "id": "3a6ae34a",
   "metadata": {},
   "outputs": [
    {
     "name": "stdout",
     "output_type": "stream",
     "text": [
      "500 TL yatırıldı. Yeni bakiye: 1500 TL\n"
     ]
    }
   ],
   "source": [
    "hesap1.para_yatir(500)"
   ]
  },
  {
   "cell_type": "code",
   "execution_count": 6,
   "id": "f0f8c87e",
   "metadata": {},
   "outputs": [
    {
     "name": "stdout",
     "output_type": "stream",
     "text": [
      "200 TL çekildi. Yeni bakiye: 1300 TL\n"
     ]
    }
   ],
   "source": [
    "hesap1.para_cek(200)"
   ]
  },
  {
   "cell_type": "code",
   "execution_count": 7,
   "id": "84d79edf",
   "metadata": {},
   "outputs": [
    {
     "name": "stdout",
     "output_type": "stream",
     "text": [
      "Yetersiz bakiye. İşlem gerçekleştirilemedi.\n"
     ]
    }
   ],
   "source": [
    "hesap1.para_cek(1500)"
   ]
  },
  {
   "cell_type": "code",
   "execution_count": 38,
   "id": "7980bb34",
   "metadata": {},
   "outputs": [],
   "source": []
  },
  {
   "cell_type": "code",
   "execution_count": null,
   "id": "b3f1e82f",
   "metadata": {},
   "outputs": [],
   "source": []
  }
 ],
 "metadata": {
  "kernelspec": {
   "display_name": "Python 3 (ipykernel)",
   "language": "python",
   "name": "python3"
  },
  "language_info": {
   "codemirror_mode": {
    "name": "ipython",
    "version": 3
   },
   "file_extension": ".py",
   "mimetype": "text/x-python",
   "name": "python",
   "nbconvert_exporter": "python",
   "pygments_lexer": "ipython3",
   "version": "3.11.5"
  }
 },
 "nbformat": 4,
 "nbformat_minor": 5
}
