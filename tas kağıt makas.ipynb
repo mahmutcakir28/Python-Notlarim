{
 "cells": [
  {
   "cell_type": "markdown",
   "id": "68deef71",
   "metadata": {},
   "source": [
    "# taş kağıt makas"
   ]
  },
  {
   "cell_type": "code",
   "execution_count": null,
   "id": "904a50ca",
   "metadata": {},
   "outputs": [
    {
     "name": "stdout",
     "output_type": "stream",
     "text": [
      "Taş, kağıt ya da makas seçin (çıkmak için 'q' tuşuna basın): tasş\n",
      "Geçersiz bir seçim. Lütfen tekrar deneyin.\n",
      "Taş, kağıt ya da makas seçin (çıkmak için 'q' tuşuna basın): taş\n",
      "Siz taş seçtiniz, Bilgisayar kağıt seçti.\n",
      "Bilgisayar kazandı!\n",
      "Taş, kağıt ya da makas seçin (çıkmak için 'q' tuşuna basın): kağıt\n",
      "Siz kağıt seçtiniz, Bilgisayar makas seçti.\n",
      "Bilgisayar kazandı!\n",
      "Taş, kağıt ya da makas seçin (çıkmak için 'q' tuşuna basın): kağıt\n",
      "Siz kağıt seçtiniz, Bilgisayar taş seçti.\n",
      "Oyuncu kazandı!\n"
     ]
    }
   ],
   "source": [
    "import random\n",
    "\n",
    "def kazanan_secim(oyuncu, bilgisayar):\n",
    "    if oyuncu == bilgisayar:\n",
    "        return \"Berabere!\"\n",
    "    elif (oyuncu == 'taş' and bilgisayar == 'makas') or (oyuncu == 'kağıt' and bilgisayar == 'taş') or (oyuncu == 'makas' and bilgisayar == 'kağıt'):\n",
    "        return \"Oyuncu kazandı!\"\n",
    "    else:\n",
    "        return \"Bilgisayar kazandı!\"\n",
    "\n",
    "def main():\n",
    "    secenekler = ['taş', 'kağıt', 'makas']\n",
    "\n",
    "    while True:\n",
    "        oyuncu_secim = input(\"Taş, kağıt ya da makas seçin (çıkmak için 'q' tuşuna basın): \").lower()\n",
    "        if oyuncu_secim == 'q':\n",
    "            break\n",
    "        if oyuncu_secim not in secenekler:\n",
    "            print(\"Geçersiz bir seçim. Lütfen tekrar deneyin.\")\n",
    "            continue\n",
    "\n",
    "        bilgisayar_secim = random.choice(secenekler)\n",
    "\n",
    "        print(f\"Siz {oyuncu_secim} seçtiniz, Bilgisayar {bilgisayar_secim} seçti.\")\n",
    "        print(kazanan_secim(oyuncu_secim, bilgisayar_secim))\n",
    "\n",
    "if __name__ == \"__main__\":\n",
    "    main()\n"
   ]
  },
  {
   "cell_type": "code",
   "execution_count": null,
   "id": "19d3802f",
   "metadata": {},
   "outputs": [],
   "source": []
  }
 ],
 "metadata": {
  "kernelspec": {
   "display_name": "Python 3 (ipykernel)",
   "language": "python",
   "name": "python3"
  },
  "language_info": {
   "codemirror_mode": {
    "name": "ipython",
    "version": 3
   },
   "file_extension": ".py",
   "mimetype": "text/x-python",
   "name": "python",
   "nbconvert_exporter": "python",
   "pygments_lexer": "ipython3",
   "version": "3.11.5"
  }
 },
 "nbformat": 4,
 "nbformat_minor": 5
}
