{
 "cells": [
  {
   "cell_type": "code",
   "execution_count": 2,
   "id": "857e268c",
   "metadata": {},
   "outputs": [
    {
     "data": {
      "text/plain": [
       "bool"
      ]
     },
     "execution_count": 2,
     "metadata": {},
     "output_type": "execute_result"
    }
   ],
   "source": [
    "a= True\n",
    "type(a)"
   ]
  },
  {
   "cell_type": "code",
   "execution_count": 4,
   "id": "a370a453",
   "metadata": {},
   "outputs": [],
   "source": [
    "b = False"
   ]
  },
  {
   "cell_type": "markdown",
   "id": "8eed4582",
   "metadata": {},
   "source": [
    "sayı sıfırdan farklı ise \"True\", sıfır ise\"False\""
   ]
  },
  {
   "cell_type": "code",
   "execution_count": 5,
   "id": "ba8536fa",
   "metadata": {},
   "outputs": [
    {
     "data": {
      "text/plain": [
       "True"
      ]
     },
     "execution_count": 5,
     "metadata": {},
     "output_type": "execute_result"
    }
   ],
   "source": [
    "bool(2)"
   ]
  },
  {
   "cell_type": "code",
   "execution_count": 6,
   "id": "2502c9b0",
   "metadata": {},
   "outputs": [
    {
     "data": {
      "text/plain": [
       "False"
      ]
     },
     "execution_count": 6,
     "metadata": {},
     "output_type": "execute_result"
    }
   ],
   "source": [
    "bool(0)"
   ]
  },
  {
   "cell_type": "markdown",
   "id": "24e4160a",
   "metadata": {},
   "source": [
    "eğer bir değişkenin değerini sonradan belirlemek istersek \"None\" kullanırız."
   ]
  },
  {
   "cell_type": "code",
   "execution_count": 7,
   "id": "14c50ce4",
   "metadata": {},
   "outputs": [],
   "source": [
    "a = None"
   ]
  },
  {
   "cell_type": "code",
   "execution_count": 9,
   "id": "ce6aec3d",
   "metadata": {},
   "outputs": [
    {
     "name": "stdout",
     "output_type": "stream",
     "text": [
      "None\n"
     ]
    }
   ],
   "source": [
    "print(a)"
   ]
  },
  {
   "cell_type": "code",
   "execution_count": 10,
   "id": "846e3c3f",
   "metadata": {},
   "outputs": [
    {
     "name": "stdout",
     "output_type": "stream",
     "text": [
      "4\n"
     ]
    }
   ],
   "source": [
    "a=4\n",
    "print(a)"
   ]
  },
  {
   "cell_type": "code",
   "execution_count": 11,
   "id": "b6b7178d",
   "metadata": {},
   "outputs": [
    {
     "data": {
      "text/plain": [
       "True"
      ]
     },
     "execution_count": 11,
     "metadata": {},
     "output_type": "execute_result"
    }
   ],
   "source": [
    "\"mehmet\" ==\"mehmet\""
   ]
  },
  {
   "cell_type": "code",
   "execution_count": 13,
   "id": "592dfcb0",
   "metadata": {},
   "outputs": [
    {
     "data": {
      "text/plain": [
       "False"
      ]
     },
     "execution_count": 13,
     "metadata": {},
     "output_type": "execute_result"
    }
   ],
   "source": [
    "\"mehmet\" ==\"murat\""
   ]
  },
  {
   "cell_type": "code",
   "execution_count": 12,
   "id": "5a3703be",
   "metadata": {},
   "outputs": [
    {
     "data": {
      "text/plain": [
       "True"
      ]
     },
     "execution_count": 12,
     "metadata": {},
     "output_type": "execute_result"
    }
   ],
   "source": [
    "\"a\"!=\"b\""
   ]
  },
  {
   "cell_type": "code",
   "execution_count": 14,
   "id": "0269578b",
   "metadata": {},
   "outputs": [
    {
     "data": {
      "text/plain": [
       "True"
      ]
     },
     "execution_count": 14,
     "metadata": {},
     "output_type": "execute_result"
    }
   ],
   "source": [
    "\"5\">\"3\""
   ]
  },
  {
   "cell_type": "code",
   "execution_count": 16,
   "id": "6133dc63",
   "metadata": {},
   "outputs": [
    {
     "data": {
      "text/plain": [
       "True"
      ]
     },
     "execution_count": 16,
     "metadata": {},
     "output_type": "execute_result"
    }
   ],
   "source": [
    "\"5\">=\"5\""
   ]
  },
  {
   "cell_type": "code",
   "execution_count": 18,
   "id": "9410fe6e",
   "metadata": {},
   "outputs": [
    {
     "data": {
      "text/plain": [
       "False"
      ]
     },
     "execution_count": 18,
     "metadata": {},
     "output_type": "execute_result"
    }
   ],
   "source": [
    "\"araba\">\"zula\""
   ]
  },
  {
   "cell_type": "code",
   "execution_count": null,
   "id": "0d2c6806",
   "metadata": {},
   "outputs": [],
   "source": []
  },
  {
   "cell_type": "markdown",
   "id": "4f0f0e4a",
   "metadata": {},
   "source": [
    "KOŞULLU DURUMLAR IF - ELSE"
   ]
  },
  {
   "cell_type": "code",
   "execution_count": null,
   "id": "b2c19777",
   "metadata": {},
   "outputs": [],
   "source": []
  },
  {
   "cell_type": "code",
   "execution_count": 21,
   "id": "4c8955ed",
   "metadata": {},
   "outputs": [
    {
     "name": "stdout",
     "output_type": "stream",
     "text": [
      "Yaşınızı Girin:17\n",
      "Mekana giremezsiniz!\n"
     ]
    }
   ],
   "source": [
    "yaş = int(input(\"Yaşınızı Girin:\"))\n",
    "\n",
    "if yaş < 18:\n",
    "    print(\"Mekana giremezsiniz!\")"
   ]
  },
  {
   "cell_type": "markdown",
   "id": "5e017c05",
   "metadata": {},
   "source": [
    "18 yaş ve üzerisi için \"else\" kullanıyoruz. else, if'in çalışmadığı durumlarda çalışır."
   ]
  },
  {
   "cell_type": "code",
   "execution_count": 24,
   "id": "429830e5",
   "metadata": {},
   "outputs": [
    {
     "name": "stdout",
     "output_type": "stream",
     "text": [
      "Yaşınızı Girin:18\n",
      "Mekana Hoşgeldiniz\n"
     ]
    }
   ],
   "source": [
    "yaş = int(input(\"Yaşınızı Girin:\"))\n",
    "\n",
    "if yaş < 18:\n",
    "    print(\"Mekana giremezsiniz!\")\n",
    "else:\n",
    "    print(\"Mekana Hoşgeldiniz\")"
   ]
  },
  {
   "cell_type": "code",
   "execution_count": null,
   "id": "df47fa57",
   "metadata": {},
   "outputs": [],
   "source": []
  },
  {
   "cell_type": "markdown",
   "id": "185efe02",
   "metadata": {},
   "source": [
    "if - elif - else               elif(başka bir koşul)"
   ]
  },
  {
   "cell_type": "code",
   "execution_count": null,
   "id": "ecb0af87",
   "metadata": {},
   "outputs": [],
   "source": []
  },
  {
   "cell_type": "code",
   "execution_count": 27,
   "id": "89ce994a",
   "metadata": {},
   "outputs": [
    {
     "name": "stdout",
     "output_type": "stream",
     "text": [
      "İşlem giriniz:5\n",
      "Geçersiz İşlem\n"
     ]
    }
   ],
   "source": [
    "işlem = input(\"İşlem giriniz:\")\n",
    "\n",
    "if işlem ==\"1\":\n",
    "    print(\"İşlem 1 seçildi.\")\n",
    "elif işlem ==\"2\":\n",
    "    print(\"İşlem 2 seçildi.\")\n",
    "elif işlem ==\"3\":\n",
    "    print(\"İşlem 3 seçildi.\")\n",
    "elif işlem ==\"4\":\n",
    "    print(\"İşlem 4 seçildi.\")\n",
    "else:\n",
    "    print(\"Geçersiz İşlem\")\n",
    "    \n",
    "    \n"
   ]
  },
  {
   "cell_type": "code",
   "execution_count": null,
   "id": "a219f244",
   "metadata": {},
   "outputs": [],
   "source": []
  },
  {
   "cell_type": "markdown",
   "id": "340a3408",
   "metadata": {},
   "source": [
    "HARF NOTU HESAPLAMA SİSTEMİ"
   ]
  },
  {
   "cell_type": "code",
   "execution_count": 6,
   "id": "dfe61d52",
   "metadata": {},
   "outputs": [
    {
     "name": "stdout",
     "output_type": "stream",
     "text": [
      "Notunuzu girin.85\n",
      "BA\n"
     ]
    }
   ],
   "source": [
    "note = float(input(\"Notunuzu girin.\"))\n",
    "\n",
    "if (note >=90):\n",
    "    print(\"AA\")\n",
    "elif (note >=85):\n",
    "    print(\"BA\")\n",
    "elif (note >=80):\n",
    "    print(\"BB\")\n",
    "elif (note >=75):\n",
    "    print(\"CB\")\n",
    "elif (note >=70):\n",
    "    print(\"CC\")\n",
    "elif (note >=65):\n",
    "    print(\"DC\")\n",
    "elif (note >=60):\n",
    "    print(\"DD\")\n",
    "else:\n",
    "    print(\"Kaldınız.\")"
   ]
  },
  {
   "cell_type": "code",
   "execution_count": null,
   "id": "0b7f3c31",
   "metadata": {},
   "outputs": [],
   "source": []
  },
  {
   "cell_type": "markdown",
   "id": "65242187",
   "metadata": {},
   "source": [
    "yukarıdan aşağıya okuyarak gelsiği için sonraki verilere göre çalışmıyor. örn:"
   ]
  },
  {
   "cell_type": "code",
   "execution_count": 9,
   "id": "0c6a1f9a",
   "metadata": {},
   "outputs": [
    {
     "name": "stdout",
     "output_type": "stream",
     "text": [
      "Notunuzu girin.85\n",
      "BA\n"
     ]
    }
   ],
   "source": [
    "note = float(input(\"Notunuzu girin.\"))\n",
    "\n",
    "if (note >=90):\n",
    "    print(\"AA\")\n",
    "elif (note >=75):\n",
    "    print(\"BA\")\n",
    "elif (note >=80):\n",
    "    print(\"BB\")\n",
    "elif (note >=75):\n",
    "    print(\"CB\")\n",
    "elif (note >=70):\n",
    "    print(\"CC\")\n",
    "elif (note >=65):\n",
    "    print(\"DC\")\n",
    "elif (note >=60):\n",
    "    print(\"DD\")\n",
    "else:\n",
    "    print(\"Kaldınız.\")"
   ]
  },
  {
   "cell_type": "code",
   "execution_count": null,
   "id": "b3d9849b",
   "metadata": {},
   "outputs": [],
   "source": []
  },
  {
   "cell_type": "code",
   "execution_count": 11,
   "id": "172f4092",
   "metadata": {},
   "outputs": [
    {
     "name": "stdout",
     "output_type": "stream",
     "text": [
      "Notunuzu girin.70\n",
      "CC\n",
      "DC\n",
      "DD\n"
     ]
    }
   ],
   "source": [
    "note = float(input(\"Notunuzu girin.\"))\n",
    "\n",
    "if (note >=90):\n",
    "    print(\"AA\")\n",
    "if (note >=75):\n",
    "    print(\"BA\")\n",
    "if (note >=80):\n",
    "    print(\"BB\")\n",
    "if (note >=75):\n",
    "    print(\"CB\")\n",
    "if (note >=70):\n",
    "    print(\"CC\")\n",
    "if (note >=65):\n",
    "    print(\"DC\")\n",
    "if (note >=60):\n",
    "    print(\"DD\")\n",
    "else:\n",
    "    print(\"Kaldınız.\")"
   ]
  },
  {
   "cell_type": "code",
   "execution_count": null,
   "id": "4ea676bf",
   "metadata": {},
   "outputs": [],
   "source": []
  },
  {
   "cell_type": "code",
   "execution_count": null,
   "id": "2e2e487a",
   "metadata": {},
   "outputs": [],
   "source": []
  },
  {
   "cell_type": "code",
   "execution_count": null,
   "id": "10b34cbf",
   "metadata": {},
   "outputs": [],
   "source": []
  },
  {
   "cell_type": "code",
   "execution_count": null,
   "id": "3242b2d4",
   "metadata": {},
   "outputs": [],
   "source": []
  }
 ],
 "metadata": {
  "kernelspec": {
   "display_name": "Python 3 (ipykernel)",
   "language": "python",
   "name": "python3"
  },
  "language_info": {
   "codemirror_mode": {
    "name": "ipython",
    "version": 3
   },
   "file_extension": ".py",
   "mimetype": "text/x-python",
   "name": "python",
   "nbconvert_exporter": "python",
   "pygments_lexer": "ipython3",
   "version": "3.11.5"
  }
 },
 "nbformat": 4,
 "nbformat_minor": 5
}
