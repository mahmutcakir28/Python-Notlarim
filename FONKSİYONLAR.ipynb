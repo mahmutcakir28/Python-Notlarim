{
 "cells": [
  {
   "cell_type": "markdown",
   "id": "c9919396",
   "metadata": {},
   "source": [
    "# METODLAR"
   ]
  },
  {
   "cell_type": "code",
   "execution_count": 3,
   "id": "6464448f",
   "metadata": {},
   "outputs": [],
   "source": [
    "a = [1,2,3,4,5]"
   ]
  },
  {
   "cell_type": "code",
   "execution_count": 4,
   "id": "0e17662a",
   "metadata": {},
   "outputs": [
    {
     "data": {
      "text/plain": [
       "list"
      ]
     },
     "execution_count": 4,
     "metadata": {},
     "output_type": "execute_result"
    }
   ],
   "source": [
    "type(a)"
   ]
  },
  {
   "cell_type": "code",
   "execution_count": 5,
   "id": "dfa4ce30",
   "metadata": {},
   "outputs": [],
   "source": [
    "a.insert(1,\"murat\")"
   ]
  },
  {
   "cell_type": "code",
   "execution_count": 6,
   "id": "59fbfc9f",
   "metadata": {},
   "outputs": [
    {
     "data": {
      "text/plain": [
       "[1, 'murat', 2, 3, 4, 5]"
      ]
     },
     "execution_count": 6,
     "metadata": {},
     "output_type": "execute_result"
    }
   ],
   "source": [
    "a"
   ]
  },
  {
   "cell_type": "code",
   "execution_count": 7,
   "id": "adf644a3",
   "metadata": {},
   "outputs": [
    {
     "name": "stdout",
     "output_type": "stream",
     "text": [
      "mahmut\n"
     ]
    }
   ],
   "source": [
    "print(\"mahmut\")"
   ]
  },
  {
   "cell_type": "code",
   "execution_count": 8,
   "id": "38eebb2c",
   "metadata": {},
   "outputs": [],
   "source": [
    "a.append(\"Python\")   # listenin sonuna ekleme yapar"
   ]
  },
  {
   "cell_type": "code",
   "execution_count": 9,
   "id": "a6d656a9",
   "metadata": {},
   "outputs": [
    {
     "data": {
      "text/plain": [
       "[1, 'murat', 2, 3, 4, 5, 'Python']"
      ]
     },
     "execution_count": 9,
     "metadata": {},
     "output_type": "execute_result"
    }
   ],
   "source": [
    "a"
   ]
  },
  {
   "cell_type": "code",
   "execution_count": 10,
   "id": "8a7b23a1",
   "metadata": {},
   "outputs": [
    {
     "data": {
      "text/plain": [
       "'Python'"
      ]
     },
     "execution_count": 10,
     "metadata": {},
     "output_type": "execute_result"
    }
   ],
   "source": [
    "a.pop()    #en sondaki değeri gösterir"
   ]
  },
  {
   "cell_type": "code",
   "execution_count": 11,
   "id": "21e78a0e",
   "metadata": {},
   "outputs": [
    {
     "name": "stdout",
     "output_type": "stream",
     "text": [
      "Help on built-in function append:\n",
      "\n",
      "append(object, /) method of builtins.list instance\n",
      "    Append object to the end of the list.\n",
      "\n"
     ]
    }
   ],
   "source": [
    "help(a.append)   #.append metodunun ne olduğunu açıklar."
   ]
  },
  {
   "cell_type": "markdown",
   "id": "57f9f7a1",
   "metadata": {},
   "source": [
    "# FONKSİYON OLUŞTURMA"
   ]
  },
  {
   "cell_type": "code",
   "execution_count": 12,
   "id": "f45a131b",
   "metadata": {},
   "outputs": [
    {
     "ename": "NameError",
     "evalue": "name 'selamla' is not defined",
     "output_type": "error",
     "traceback": [
      "\u001b[1;31m---------------------------------------------------------------------------\u001b[0m",
      "\u001b[1;31mNameError\u001b[0m                                 Traceback (most recent call last)",
      "Cell \u001b[1;32mIn[12], line 1\u001b[0m\n\u001b[1;32m----> 1\u001b[0m \u001b[38;5;28mtype\u001b[39m(selamla)\n",
      "\u001b[1;31mNameError\u001b[0m: name 'selamla' is not defined"
     ]
    }
   ],
   "source": [
    "type(selamla)"
   ]
  },
  {
   "cell_type": "code",
   "execution_count": null,
   "id": "fda60d92",
   "metadata": {},
   "outputs": [],
   "source": [
    "def selamla():\n",
    "    print(\"merhaba...\")\n",
    "    print(\"nasılsınız?\")"
   ]
  },
  {
   "cell_type": "code",
   "execution_count": null,
   "id": "6151fde1",
   "metadata": {},
   "outputs": [],
   "source": [
    "type(selamla)"
   ]
  },
  {
   "cell_type": "code",
   "execution_count": null,
   "id": "db49381e",
   "metadata": {},
   "outputs": [],
   "source": [
    "selamla()"
   ]
  },
  {
   "cell_type": "code",
   "execution_count": null,
   "id": "88c6d8a1",
   "metadata": {},
   "outputs": [],
   "source": [
    "def selamla(isim):\n",
    "    print(\"İsminiz:\",isim)"
   ]
  },
  {
   "cell_type": "code",
   "execution_count": null,
   "id": "a4909ee7",
   "metadata": {},
   "outputs": [],
   "source": [
    "selamla(\"Kemal\")"
   ]
  },
  {
   "cell_type": "code",
   "execution_count": null,
   "id": "330e0185",
   "metadata": {},
   "outputs": [],
   "source": [
    "selamla(\"ayşe\")"
   ]
  },
  {
   "cell_type": "code",
   "execution_count": null,
   "id": "72609355",
   "metadata": {},
   "outputs": [],
   "source": [
    "def toplama(a,b,c):\n",
    "    print(\"Toplamları\",a+b+c)"
   ]
  },
  {
   "cell_type": "code",
   "execution_count": null,
   "id": "98e357de",
   "metadata": {},
   "outputs": [],
   "source": [
    "toplama(10,20,30)"
   ]
  },
  {
   "cell_type": "code",
   "execution_count": 13,
   "id": "ae96ee08",
   "metadata": {},
   "outputs": [],
   "source": [
    "def faktoriyel (sayı):\n",
    "    faktoriyel = 1\n",
    "    if (sayı == 0 or sayı == 1):\n",
    "        print(\"Faktoriyel\",faktoriyel)\n",
    "    else:\n",
    "        while (sayı>= 1):\n",
    "            faktoriyel *= sayı\n",
    "            sayı -= 1\n",
    "            \n",
    "        print(\"Faktoriyel\", faktoriyel)\n",
    "    "
   ]
  },
  {
   "cell_type": "code",
   "execution_count": 15,
   "id": "780ae181",
   "metadata": {},
   "outputs": [
    {
     "name": "stdout",
     "output_type": "stream",
     "text": [
      "Faktoriyel 120\n"
     ]
    }
   ],
   "source": [
    "faktoriyel(5)"
   ]
  },
  {
   "cell_type": "markdown",
   "id": "2a91fc87",
   "metadata": {},
   "source": [
    "# return"
   ]
  },
  {
   "cell_type": "code",
   "execution_count": 24,
   "id": "d7c2991c",
   "metadata": {},
   "outputs": [],
   "source": [
    "def toplama (a,b,c):\n",
    "    print(\"Toplamları\",a+b+c)"
   ]
  },
  {
   "cell_type": "code",
   "execution_count": 25,
   "id": "cc299f03",
   "metadata": {},
   "outputs": [
    {
     "name": "stdout",
     "output_type": "stream",
     "text": [
      "Toplamları 9\n"
     ]
    }
   ],
   "source": [
    "toplama(2,3,4)"
   ]
  },
  {
   "cell_type": "code",
   "execution_count": 37,
   "id": "9ca13c5c",
   "metadata": {},
   "outputs": [],
   "source": [
    "def ikiyleçarp(a):\n",
    "    print(\"İkiyle çarp\", a*2)"
   ]
  },
  {
   "cell_type": "code",
   "execution_count": 39,
   "id": "0eaf8758",
   "metadata": {},
   "outputs": [
    {
     "name": "stdout",
     "output_type": "stream",
     "text": [
      "İkiyle çarp 24\n",
      "None\n"
     ]
    }
   ],
   "source": [
    "toplam = toplama(3,4,5)\n",
    "print(ikiyleçarp(toplam))"
   ]
  },
  {
   "cell_type": "code",
   "execution_count": 29,
   "id": "087aaf9b",
   "metadata": {},
   "outputs": [
    {
     "data": {
      "text/plain": [
       "NoneType"
      ]
     },
     "execution_count": 29,
     "metadata": {},
     "output_type": "execute_result"
    }
   ],
   "source": [
    "type(toplam)"
   ]
  },
  {
   "cell_type": "code",
   "execution_count": 30,
   "id": "a57d4196",
   "metadata": {},
   "outputs": [],
   "source": [
    "def toplama (a,b,c):\n",
    "    return a+b+c                        #Printle olmuyordu return kullandık.\n",
    "def ikiyleçarp(a):\n",
    "    return a*2"
   ]
  },
  {
   "cell_type": "code",
   "execution_count": 31,
   "id": "cf879335",
   "metadata": {},
   "outputs": [
    {
     "name": "stdout",
     "output_type": "stream",
     "text": [
      "24\n"
     ]
    }
   ],
   "source": [
    "toplam = toplama(3,4,5)\n",
    "print(ikiyleçarp(toplam))"
   ]
  },
  {
   "cell_type": "markdown",
   "id": "95a2fa9e",
   "metadata": {},
   "source": [
    "# fonksiyonlarda parametre türleri\n"
   ]
  },
  {
   "cell_type": "code",
   "execution_count": 44,
   "id": "ad09ae50",
   "metadata": {},
   "outputs": [],
   "source": [
    "def selamla(isim):\n",
    "    print(\"selam\",isim)"
   ]
  },
  {
   "cell_type": "code",
   "execution_count": 45,
   "id": "81564126",
   "metadata": {},
   "outputs": [
    {
     "name": "stdout",
     "output_type": "stream",
     "text": [
      "selam murat\n"
     ]
    }
   ],
   "source": [
    "selamla(\"murat\")"
   ]
  },
  {
   "cell_type": "code",
   "execution_count": 46,
   "id": "afac426f",
   "metadata": {},
   "outputs": [
    {
     "ename": "TypeError",
     "evalue": "selamla() missing 1 required positional argument: 'isim'",
     "output_type": "error",
     "traceback": [
      "\u001b[1;31m---------------------------------------------------------------------------\u001b[0m",
      "\u001b[1;31mTypeError\u001b[0m                                 Traceback (most recent call last)",
      "Cell \u001b[1;32mIn[46], line 1\u001b[0m\n\u001b[1;32m----> 1\u001b[0m selamla()\n",
      "\u001b[1;31mTypeError\u001b[0m: selamla() missing 1 required positional argument: 'isim'"
     ]
    }
   ],
   "source": [
    "selamla()"
   ]
  },
  {
   "cell_type": "code",
   "execution_count": 49,
   "id": "041dcbdc",
   "metadata": {},
   "outputs": [],
   "source": [
    "def selamla (isim = \"isimsiz\"):    #değer verilmesiğinde hata vermesin diye varsayılan değer atadık.\n",
    "    print(\"selam\",isim)"
   ]
  },
  {
   "cell_type": "code",
   "execution_count": 51,
   "id": "ac4c5783",
   "metadata": {},
   "outputs": [
    {
     "name": "stdout",
     "output_type": "stream",
     "text": [
      "selam isimsiz\n"
     ]
    }
   ],
   "source": [
    "selamla()"
   ]
  },
  {
   "cell_type": "code",
   "execution_count": null,
   "id": "d9fe3c98",
   "metadata": {},
   "outputs": [],
   "source": []
  },
  {
   "cell_type": "code",
   "execution_count": 54,
   "id": "3322b9c8",
   "metadata": {},
   "outputs": [],
   "source": [
    "def bilgilerigoster(ad, soyad, numara):\n",
    "    print(\"Ad:\",ad,\"soyad:\",soyad,\"numara:\",numara)"
   ]
  },
  {
   "cell_type": "code",
   "execution_count": 55,
   "id": "97124947",
   "metadata": {},
   "outputs": [
    {
     "name": "stdout",
     "output_type": "stream",
     "text": [
      "Ad: mustafa murat soyad: coşkun numara: 12345\n"
     ]
    }
   ],
   "source": [
    "bilgilerigoster(\"mustafa murat\",\"coşkun\",\"12345\")"
   ]
  },
  {
   "cell_type": "code",
   "execution_count": 56,
   "id": "3ddb181c",
   "metadata": {},
   "outputs": [],
   "source": [
    "def bilgilerigoster(ad=\"bilgi yok\", soyad=\"bilgi yok\", numara=\"bilgi yok\"):                 #varsayılan değer girdik.\n",
    "    print(\"Ad:\",ad,\"soyad:\",soyad,\"numara:\",numara)"
   ]
  },
  {
   "cell_type": "code",
   "execution_count": 58,
   "id": "845fcc83",
   "metadata": {},
   "outputs": [
    {
     "name": "stdout",
     "output_type": "stream",
     "text": [
      "Ad: mustafa murat soyad: coşkun numara: bilgi yok\n"
     ]
    }
   ],
   "source": [
    "bilgilerigoster(\"mustafa murat\",\"coşkun\",)                              #numarayı girmedik."
   ]
  },
  {
   "cell_type": "code",
   "execution_count": 59,
   "id": "a5cb82ac",
   "metadata": {},
   "outputs": [
    {
     "name": "stdout",
     "output_type": "stream",
     "text": [
      "Ad: bilgi yok soyad: bilgi yok numara: 12345\n"
     ]
    }
   ],
   "source": [
    "bilgilerigoster(numara=\"12345\")                                     #sadece numarayı girmek için böyle yaptık."
   ]
  },
  {
   "cell_type": "code",
   "execution_count": null,
   "id": "d8440d3f",
   "metadata": {},
   "outputs": [],
   "source": []
  },
  {
   "cell_type": "code",
   "execution_count": 60,
   "id": "ea364b81",
   "metadata": {},
   "outputs": [
    {
     "name": "stdout",
     "output_type": "stream",
     "text": [
      "Mustafa Murat Coskun\n"
     ]
    }
   ],
   "source": [
    "print(\"Mustafa\",\"Murat\",\"Coskun\")"
   ]
  },
  {
   "cell_type": "code",
   "execution_count": 61,
   "id": "9709a07a",
   "metadata": {},
   "outputs": [
    {
     "name": "stdout",
     "output_type": "stream",
     "text": [
      "Mustafa/Murat/Coskun\n"
     ]
    }
   ],
   "source": [
    "print(\"Mustafa\",\"Murat\",\"Coskun\",sep=\"/\")"
   ]
  },
  {
   "cell_type": "code",
   "execution_count": 62,
   "id": "80003cfe",
   "metadata": {
    "scrolled": true
   },
   "outputs": [
    {
     "name": "stdout",
     "output_type": "stream",
     "text": [
      "Help on built-in function print in module builtins:\n",
      "\n",
      "print(*args, sep=' ', end='\\n', file=None, flush=False)\n",
      "    Prints the values to a stream, or to sys.stdout by default.\n",
      "    \n",
      "    sep\n",
      "      string inserted between values, default a space.\n",
      "    end\n",
      "      string appended after the last value, default a newline.\n",
      "    file\n",
      "      a file-like object (stream); defaults to the current sys.stdout.\n",
      "    flush\n",
      "      whether to forcibly flush the stream.\n",
      "\n"
     ]
    }
   ],
   "source": [
    "help(print)         #printin varsayılan parametreleri."
   ]
  },
  {
   "cell_type": "code",
   "execution_count": null,
   "id": "df750678",
   "metadata": {},
   "outputs": [],
   "source": []
  },
  {
   "cell_type": "markdown",
   "id": "b6a0f46d",
   "metadata": {},
   "source": [
    "# esnek sayıda değerler"
   ]
  },
  {
   "cell_type": "code",
   "execution_count": 64,
   "id": "03f5a3ba",
   "metadata": {},
   "outputs": [],
   "source": [
    "def toplama(a,b,c):\n",
    "    print(a+b+c)"
   ]
  },
  {
   "cell_type": "code",
   "execution_count": 65,
   "id": "f2a98d9d",
   "metadata": {},
   "outputs": [
    {
     "name": "stdout",
     "output_type": "stream",
     "text": [
      "12\n"
     ]
    }
   ],
   "source": [
    "toplama(3,4,5)"
   ]
  },
  {
   "cell_type": "code",
   "execution_count": 66,
   "id": "d3009d5e",
   "metadata": {},
   "outputs": [
    {
     "ename": "TypeError",
     "evalue": "toplama() takes 3 positional arguments but 4 were given",
     "output_type": "error",
     "traceback": [
      "\u001b[1;31m---------------------------------------------------------------------------\u001b[0m",
      "\u001b[1;31mTypeError\u001b[0m                                 Traceback (most recent call last)",
      "Cell \u001b[1;32mIn[66], line 1\u001b[0m\n\u001b[1;32m----> 1\u001b[0m toplama(\u001b[38;5;241m3\u001b[39m,\u001b[38;5;241m4\u001b[39m,\u001b[38;5;241m5\u001b[39m,\u001b[38;5;241m6\u001b[39m)\n",
      "\u001b[1;31mTypeError\u001b[0m: toplama() takes 3 positional arguments but 4 were given"
     ]
    }
   ],
   "source": [
    "toplama(3,4,5,6)         # dort değer verince olmadı."
   ]
  },
  {
   "cell_type": "code",
   "execution_count": 67,
   "id": "5eb5b357",
   "metadata": {},
   "outputs": [],
   "source": [
    "def toplama(*a):\n",
    "    print(a)"
   ]
  },
  {
   "cell_type": "code",
   "execution_count": 68,
   "id": "405e2470",
   "metadata": {},
   "outputs": [
    {
     "name": "stdout",
     "output_type": "stream",
     "text": [
      "(1, 2, 3)\n"
     ]
    }
   ],
   "source": [
    "toplama(1,2,3)"
   ]
  },
  {
   "cell_type": "code",
   "execution_count": 69,
   "id": "f3b18517",
   "metadata": {},
   "outputs": [
    {
     "name": "stdout",
     "output_type": "stream",
     "text": [
      "(1, 2, 3, 4)\n"
     ]
    }
   ],
   "source": [
    "toplama(1,2,3,4)"
   ]
  },
  {
   "cell_type": "code",
   "execution_count": 78,
   "id": "b8b8de53",
   "metadata": {},
   "outputs": [],
   "source": [
    "def toplama (*a):\n",
    "    toplam = 0\n",
    "    for i in a:\n",
    "        toplam +=i\n",
    "    print(toplam)"
   ]
  },
  {
   "cell_type": "code",
   "execution_count": 79,
   "id": "5c009705",
   "metadata": {},
   "outputs": [
    {
     "name": "stdout",
     "output_type": "stream",
     "text": [
      "6\n"
     ]
    }
   ],
   "source": [
    "toplama(1,2,3)"
   ]
  },
  {
   "cell_type": "code",
   "execution_count": 87,
   "id": "6e021267",
   "metadata": {},
   "outputs": [],
   "source": [
    "def toplama (*a):\n",
    "    toplam = 0\n",
    "    for i in a:\n",
    "        toplam +=i\n",
    "    print(toplam)"
   ]
  },
  {
   "cell_type": "code",
   "execution_count": 88,
   "id": "9c34e49d",
   "metadata": {},
   "outputs": [
    {
     "name": "stdout",
     "output_type": "stream",
     "text": [
      "6\n"
     ]
    }
   ],
   "source": [
    "toplama(1,2,3)"
   ]
  },
  {
   "cell_type": "code",
   "execution_count": null,
   "id": "7fae4c88",
   "metadata": {},
   "outputs": [],
   "source": []
  },
  {
   "cell_type": "code",
   "execution_count": null,
   "id": "4689e0ab",
   "metadata": {},
   "outputs": [],
   "source": []
  },
  {
   "cell_type": "code",
   "execution_count": null,
   "id": "8075fb65",
   "metadata": {},
   "outputs": [],
   "source": []
  },
  {
   "cell_type": "code",
   "execution_count": null,
   "id": "3cc98a10",
   "metadata": {},
   "outputs": [],
   "source": []
  }
 ],
 "metadata": {
  "kernelspec": {
   "display_name": "Python 3 (ipykernel)",
   "language": "python",
   "name": "python3"
  },
  "language_info": {
   "codemirror_mode": {
    "name": "ipython",
    "version": 3
   },
   "file_extension": ".py",
   "mimetype": "text/x-python",
   "name": "python",
   "nbconvert_exporter": "python",
   "pygments_lexer": "ipython3",
   "version": "3.11.5"
  }
 },
 "nbformat": 4,
 "nbformat_minor": 5
}
