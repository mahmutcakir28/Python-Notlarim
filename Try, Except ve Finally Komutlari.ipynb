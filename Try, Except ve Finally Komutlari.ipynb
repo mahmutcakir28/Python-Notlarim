{
 "cells": [
  {
   "cell_type": "code",
   "execution_count": 1,
   "id": "463a040b",
   "metadata": {},
   "outputs": [
    {
     "data": {
      "text/plain": [
       "2"
      ]
     },
     "execution_count": 1,
     "metadata": {},
     "output_type": "execute_result"
    }
   ],
   "source": [
    "round(1.6)   #en yakın tam sayıya çevirir."
   ]
  },
  {
   "cell_type": "code",
   "execution_count": null,
   "id": "73da62ba",
   "metadata": {},
   "outputs": [],
   "source": [
    "def tam_sayiya_cevir():\n",
    "    try:\n",
    "        girdi = input(\"Bir Ondalık Sayi Giriniz:\")\n",
    "        print(\"Yuvarlama Işleminin Sonucu: {}\".format(round(float(girdi))))\n",
    "    except TypeError:\n",
    "        print (\"girilen verilerle islem yapilamiyor.\")\n",
    "    except ValueError:\n",
    "        print (\"girilen verilerle islem yapilamiyor.\")\n",
    "    except SyntaxError:\n",
    "        print (\"girilen verilerle islem yapilamiyor.\")\n",
    "    except IndentationError:\n",
    "        print (\"girilen verilerle islem yapilamiyor.\")"
   ]
  },
  {
   "cell_type": "code",
   "execution_count": null,
   "id": "a82c50bc",
   "metadata": {},
   "outputs": [],
   "source": [
    "tam_sayiya_cevir()"
   ]
  },
  {
   "cell_type": "code",
   "execution_count": null,
   "id": "362dbe25",
   "metadata": {},
   "outputs": [],
   "source": []
  },
  {
   "cell_type": "code",
   "execution_count": null,
   "id": "eaa2940c",
   "metadata": {},
   "outputs": [],
   "source": []
  },
  {
   "cell_type": "code",
   "execution_count": null,
   "id": "9560446d",
   "metadata": {
    "scrolled": true
   },
   "outputs": [
    {
     "name": "stdout",
     "output_type": "stream",
     "text": [
      "Taban giriniz.8\n",
      "üs giriniz.8\n",
      "8 üzeri 8 işlemini sonucu: 16777216\n"
     ]
    }
   ],
   "source": [
    "def ustel_sayi_v1():\n",
    "    while True:\n",
    "        try:\n",
    "            taban = int(input(\"Taban giriniz.\"))\n",
    "            üs= int(input(\"üs giriniz.\"))\n",
    "            print(\"{} üzeri {} işlemini sonucu: {}\".format(taban,üs,taban**üs))\n",
    "        except ValueError:\n",
    "            print(\"Geçersiz Bir Yaptınız.\")\n",
    "ustel_sayi_v1()"
   ]
  },
  {
   "cell_type": "code",
   "execution_count": null,
   "id": "8103be9c",
   "metadata": {},
   "outputs": [],
   "source": []
  }
 ],
 "metadata": {
  "kernelspec": {
   "display_name": "Python 3 (ipykernel)",
   "language": "python",
   "name": "python3"
  },
  "language_info": {
   "codemirror_mode": {
    "name": "ipython",
    "version": 3
   },
   "file_extension": ".py",
   "mimetype": "text/x-python",
   "name": "python",
   "nbconvert_exporter": "python",
   "pygments_lexer": "ipython3",
   "version": "3.11.5"
  }
 },
 "nbformat": 4,
 "nbformat_minor": 5
}
