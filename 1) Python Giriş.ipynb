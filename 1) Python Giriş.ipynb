{
 "cells": [
  {
   "cell_type": "code",
   "execution_count": 1,
   "id": "c12c4ebc",
   "metadata": {},
   "outputs": [
    {
     "name": "stdout",
     "output_type": "stream",
     "text": [
      "mehaba dünya!\n"
     ]
    }
   ],
   "source": [
    "print(\"mehaba dünya!\")"
   ]
  },
  {
   "cell_type": "code",
   "execution_count": 2,
   "id": "d467caef",
   "metadata": {},
   "outputs": [
    {
     "name": "stdout",
     "output_type": "stream",
     "text": [
      "mehaba \n",
      "dünya!\n"
     ]
    }
   ],
   "source": [
    "print(\"mehaba \\ndünya!\")"
   ]
  },
  {
   "cell_type": "code",
   "execution_count": 3,
   "id": "80726de6",
   "metadata": {},
   "outputs": [
    {
     "name": "stdout",
     "output_type": "stream",
     "text": [
      "mehaba \tdünya!\n"
     ]
    }
   ],
   "source": [
    "print(\"mehaba \\tdünya!\")    # bir tab bosluk"
   ]
  },
  {
   "cell_type": "code",
   "execution_count": 4,
   "id": "b38ae2a0",
   "metadata": {},
   "outputs": [
    {
     "name": "stdout",
     "output_type": "stream",
     "text": [
      "10\n"
     ]
    }
   ],
   "source": [
    "sayi = 10\n",
    "print (sayi)"
   ]
  },
  {
   "cell_type": "code",
   "execution_count": 5,
   "id": "92ef4b80",
   "metadata": {},
   "outputs": [
    {
     "name": "stdout",
     "output_type": "stream",
     "text": [
      "11\n"
     ]
    }
   ],
   "source": [
    "sayi = sayi+1\n",
    "print(sayi)"
   ]
  },
  {
   "cell_type": "markdown",
   "id": "0122c4ce",
   "metadata": {},
   "source": [
    "# Veri Tipleri"
   ]
  },
  {
   "cell_type": "raw",
   "id": "aa2e6a32",
   "metadata": {},
   "source": [
    "'''\n",
    "Integer   int   3,10 tam sayılar\n",
    "\n",
    "float     float  1.5 7.0 noktalı sayılar\n",
    "\n",
    "String    str    \"Slm\", \"2\" kelimeler\n",
    "\n",
    "boolen    bool   True, False\n",
    "\n",
    "List      list   [1,2,True,'a',1]         #köşeli parantez ile\n",
    "\n",
    "set       set    {1,2,True}               #süslü parantez (birden fazla tekrar eden ifade varsa teke indirgiyor.)\n",
    "\n",
    "dictionary dict  {'isim':'Mesut,' 'yas':32}\n",
    "\n",
    "turple    tup    (1,2,True)              # listeden farkı içeriği değiştirilemiyor.\n",
    "\n",
    "\n",
    "'''"
   ]
  },
  {
   "cell_type": "markdown",
   "id": "fc566fcc",
   "metadata": {},
   "source": [
    "# String tipi "
   ]
  },
  {
   "cell_type": "code",
   "execution_count": 6,
   "id": "d4242372",
   "metadata": {},
   "outputs": [
    {
     "name": "stdout",
     "output_type": "stream",
     "text": [
      "Python\n"
     ]
    }
   ],
   "source": [
    "strvar = \"Python\"\n",
    "print(strvar)"
   ]
  },
  {
   "cell_type": "code",
   "execution_count": 7,
   "id": "2fd44844",
   "metadata": {},
   "outputs": [
    {
     "data": {
      "text/plain": [
       "'h'"
      ]
     },
     "execution_count": 7,
     "metadata": {},
     "output_type": "execute_result"
    }
   ],
   "source": [
    "strvar[3]   #3. index ne diye sorduk.(Saymaya 0'dan başlar.)"
   ]
  },
  {
   "cell_type": "code",
   "execution_count": 8,
   "id": "79404431",
   "metadata": {},
   "outputs": [
    {
     "data": {
      "text/plain": [
       "'thon'"
      ]
     },
     "execution_count": 8,
     "metadata": {},
     "output_type": "execute_result"
    }
   ],
   "source": [
    "strvar[2:]  #2'den sona kadar gider."
   ]
  },
  {
   "cell_type": "code",
   "execution_count": 9,
   "id": "494a2e4d",
   "metadata": {},
   "outputs": [
    {
     "data": {
      "text/plain": [
       "'tho'"
      ]
     },
     "execution_count": 9,
     "metadata": {},
     "output_type": "execute_result"
    }
   ],
   "source": [
    "strvar[2:5]  #2 ile 5 arası. 5.' yi almaz."
   ]
  },
  {
   "cell_type": "code",
   "execution_count": 10,
   "id": "55834a51",
   "metadata": {},
   "outputs": [
    {
     "data": {
      "text/plain": [
       "'yhn'"
      ]
     },
     "execution_count": 10,
     "metadata": {},
     "output_type": "execute_result"
    }
   ],
   "source": [
    "strvar[1:6:2]  # 2 atlayarak git."
   ]
  },
  {
   "cell_type": "code",
   "execution_count": 11,
   "id": "415846b1",
   "metadata": {},
   "outputs": [
    {
     "data": {
      "text/plain": [
       "6"
      ]
     },
     "execution_count": 11,
     "metadata": {},
     "output_type": "execute_result"
    }
   ],
   "source": [
    "len(strvar)    #len uzunluğu verir."
   ]
  },
  {
   "cell_type": "code",
   "execution_count": 12,
   "id": "e949df58",
   "metadata": {},
   "outputs": [],
   "source": [
    "strvar = strvar + \" ogren!\"             #İki yazıyı bağlama."
   ]
  },
  {
   "cell_type": "code",
   "execution_count": 13,
   "id": "f5caeb00",
   "metadata": {},
   "outputs": [
    {
     "data": {
      "text/plain": [
       "'Python ogren!Python ogren!Python ogren!'"
      ]
     },
     "execution_count": 13,
     "metadata": {},
     "output_type": "execute_result"
    }
   ],
   "source": [
    "strvar*3                       #Çarpma İşlemi."
   ]
  },
  {
   "cell_type": "code",
   "execution_count": 14,
   "id": "c43091aa",
   "metadata": {},
   "outputs": [
    {
     "name": "stdout",
     "output_type": "stream",
     "text": [
      "PYTHON OGREN!\n",
      "python ogren!\n",
      "['Python', 'ogren!']\n"
     ]
    }
   ],
   "source": [
    "print(strvar.upper())        #.upper büyük harfe çeviri. (.tab yapınca fonksiyon listesi açılıyor.)\n",
    "print(strvar.lower())        #.lower küçük harfe çevirdi.\n",
    "print(strvar.split())      # liste yaptı (()parantez içine gelip shift tab yapınca fonksiyonun ne işe yaradığı bilgisini verir.)"
   ]
  },
  {
   "cell_type": "code",
   "execution_count": 15,
   "id": "0eedfd65",
   "metadata": {},
   "outputs": [
    {
     "name": "stdout",
     "output_type": "stream",
     "text": [
      "['Pyth', 'n ', 'gren!']\n"
     ]
    }
   ],
   "source": [
    "print(strvar.split(\"o\")) # \"o\" harfinden itibaren ayır."
   ]
  },
  {
   "cell_type": "code",
   "execution_count": 16,
   "id": "4e36cd14",
   "metadata": {},
   "outputs": [
    {
     "name": "stdout",
     "output_type": "stream",
     "text": [
      "['Pyth', 'n ogren!']\n"
     ]
    }
   ],
   "source": [
    "print(strvar.split(sep=\"o\", maxsplit=1))  #o dan itibaren ayır ama bir kez ayır.)(shift tab'da öğretiyor bunu)"
   ]
  },
  {
   "cell_type": "markdown",
   "id": "bc33dc08",
   "metadata": {},
   "source": [
    "# Boolen"
   ]
  },
  {
   "cell_type": "code",
   "execution_count": null,
   "id": "dbef9fd4",
   "metadata": {},
   "outputs": [],
   "source": [
    "# if li ifadeler de kullanıyoruz daha çok. True ya da false verir."
   ]
  },
  {
   "cell_type": "code",
   "execution_count": 17,
   "id": "369a482d",
   "metadata": {},
   "outputs": [
    {
     "name": "stdout",
     "output_type": "stream",
     "text": [
      "True False\n"
     ]
    }
   ],
   "source": [
    "a = True\n",
    "b = False\n",
    "print(a,b)"
   ]
  },
  {
   "cell_type": "code",
   "execution_count": 18,
   "id": "baccadb8",
   "metadata": {},
   "outputs": [
    {
     "data": {
      "text/plain": [
       "bool"
      ]
     },
     "execution_count": 18,
     "metadata": {},
     "output_type": "execute_result"
    }
   ],
   "source": [
    "type(a)"
   ]
  },
  {
   "cell_type": "code",
   "execution_count": 20,
   "id": "c077af89",
   "metadata": {},
   "outputs": [
    {
     "name": "stdout",
     "output_type": "stream",
     "text": [
      "False\n"
     ]
    }
   ],
   "source": [
    "yas1=20\n",
    "yas2=18\n",
    "\n",
    "print(yas2>20)"
   ]
  },
  {
   "cell_type": "code",
   "execution_count": 23,
   "id": "0ee19f5e",
   "metadata": {},
   "outputs": [
    {
     "data": {
      "text/plain": [
       "True"
      ]
     },
     "execution_count": 23,
     "metadata": {},
     "output_type": "execute_result"
    }
   ],
   "source": [
    "yas2 == 18    # yas2 eşitmidir 18 e?"
   ]
  },
  {
   "cell_type": "code",
   "execution_count": 25,
   "id": "84be7aeb",
   "metadata": {},
   "outputs": [
    {
     "data": {
      "text/plain": [
       "False"
      ]
     },
     "execution_count": 25,
     "metadata": {},
     "output_type": "execute_result"
    }
   ],
   "source": [
    "yas2 != 18   # yas2 eşit değilmidir 18 e?"
   ]
  },
  {
   "cell_type": "code",
   "execution_count": 27,
   "id": "ede255f9",
   "metadata": {},
   "outputs": [
    {
     "data": {
      "text/plain": [
       "True"
      ]
     },
     "execution_count": 27,
     "metadata": {},
     "output_type": "execute_result"
    }
   ],
   "source": [
    "not yas2 > 18    #normalde True False olan cevabın tersini veriyor."
   ]
  },
  {
   "cell_type": "markdown",
   "id": "937ff0b5",
   "metadata": {},
   "source": [
    "# list & set"
   ]
  },
  {
   "cell_type": "code",
   "execution_count": 1,
   "id": "c3c906fc",
   "metadata": {},
   "outputs": [
    {
     "name": "stdout",
     "output_type": "stream",
     "text": [
      "['a', 'b', 'c', 'd', 'e', 'a']\n"
     ]
    }
   ],
   "source": [
    "liste = ['a', 'b', 'c', 'd', 'e', 'a'] \n",
    "print(liste)"
   ]
  },
  {
   "cell_type": "code",
   "execution_count": 2,
   "id": "f2a9a7cb",
   "metadata": {},
   "outputs": [
    {
     "data": {
      "text/plain": [
       "list"
      ]
     },
     "execution_count": 2,
     "metadata": {},
     "output_type": "execute_result"
    }
   ],
   "source": [
    "type(liste)"
   ]
  },
  {
   "cell_type": "code",
   "execution_count": 3,
   "id": "1a7d6812",
   "metadata": {},
   "outputs": [
    {
     "data": {
      "text/plain": [
       "['a', 'b', 'c', 'd', 'e', 'a', 'f']"
      ]
     },
     "execution_count": 3,
     "metadata": {},
     "output_type": "execute_result"
    }
   ],
   "source": [
    "liste = liste + ['f']              # eleman ekledik.köşeli pazanteze dikkat. pek kullanılmayan bir yöntem.\n",
    "liste"
   ]
  },
  {
   "cell_type": "code",
   "execution_count": 4,
   "id": "ae0bc2bb",
   "metadata": {},
   "outputs": [
    {
     "data": {
      "text/plain": [
       "'a'"
      ]
     },
     "execution_count": 4,
     "metadata": {},
     "output_type": "execute_result"
    }
   ],
   "source": [
    "liste[0]"
   ]
  },
  {
   "cell_type": "code",
   "execution_count": 5,
   "id": "0e15ed35",
   "metadata": {},
   "outputs": [
    {
     "data": {
      "text/plain": [
       "['d', 'e']"
      ]
     },
     "execution_count": 5,
     "metadata": {},
     "output_type": "execute_result"
    }
   ],
   "source": [
    "liste[3:5]"
   ]
  },
  {
   "cell_type": "code",
   "execution_count": 6,
   "id": "775db17a",
   "metadata": {},
   "outputs": [
    {
     "data": {
      "text/plain": [
       "['a', 'b', 'c', 'd', 'e', 'a', 'f', 'g']"
      ]
     },
     "execution_count": 6,
     "metadata": {},
     "output_type": "execute_result"
    }
   ],
   "source": [
    "liste.append(\"g\")       #.append listeye ekleme yapar(listenin diğer metodlarını görmek için shift+tab yap incele.)\n",
    "liste"
   ]
  },
  {
   "cell_type": "code",
   "execution_count": 7,
   "id": "5a34ccd6",
   "metadata": {},
   "outputs": [
    {
     "data": {
      "text/plain": [
       "['a', 'b', 'c', 'd', 'e', 'a', 'f']"
      ]
     },
     "execution_count": 7,
     "metadata": {},
     "output_type": "execute_result"
    }
   ],
   "source": [
    "liste.pop()                    #.pop son harfi attı.\n",
    "liste"
   ]
  },
  {
   "cell_type": "code",
   "execution_count": 8,
   "id": "4a439ac8",
   "metadata": {},
   "outputs": [
    {
     "data": {
      "text/plain": [
       "'a'"
      ]
     },
     "execution_count": 8,
     "metadata": {},
     "output_type": "execute_result"
    }
   ],
   "source": [
    "liste.pop(5)         # 5. indexdeki 'a' yı attar."
   ]
  },
  {
   "cell_type": "code",
   "execution_count": 9,
   "id": "35da75d5",
   "metadata": {},
   "outputs": [
    {
     "data": {
      "text/plain": [
       "['a', 'b', 'c', 'd', 'e', 'f']"
      ]
     },
     "execution_count": 9,
     "metadata": {},
     "output_type": "execute_result"
    }
   ],
   "source": [
    "liste               #attı."
   ]
  },
  {
   "cell_type": "code",
   "execution_count": 12,
   "id": "812e7368",
   "metadata": {},
   "outputs": [],
   "source": [
    "sayilar = [123,12312,456789,256,1,1]      #.sort sıralama yapar.\n",
    "sayilar.sort()"
   ]
  },
  {
   "cell_type": "code",
   "execution_count": 13,
   "id": "87655583",
   "metadata": {},
   "outputs": [
    {
     "data": {
      "text/plain": [
       "[1, 1, 123, 256, 12312, 456789]"
      ]
     },
     "execution_count": 13,
     "metadata": {},
     "output_type": "execute_result"
    }
   ],
   "source": [
    "sayilar"
   ]
  },
  {
   "cell_type": "code",
   "execution_count": 16,
   "id": "66edf0ba",
   "metadata": {},
   "outputs": [
    {
     "name": "stdout",
     "output_type": "stream",
     "text": [
      "[456789, 12312, 256, 123, 1, 1]\n"
     ]
    }
   ],
   "source": [
    "sayilar.reverse()       #.reverse sıralamayı tersine çevirir\n",
    "print(sayilar)"
   ]
  },
  {
   "cell_type": "code",
   "execution_count": 17,
   "id": "102ff061",
   "metadata": {},
   "outputs": [
    {
     "data": {
      "text/plain": [
       "{1, 123, 256, 12312, 456789}"
      ]
     },
     "execution_count": 17,
     "metadata": {},
     "output_type": "execute_result"
    }
   ],
   "source": [
    "set(sayilar)                 # mükkerrer ifadeleri kaldırır. süslü parantez getirir. set tipine dönüştü."
   ]
  },
  {
   "cell_type": "markdown",
   "id": "aeddeb45",
   "metadata": {},
   "source": [
    "# Tuple"
   ]
  },
  {
   "cell_type": "code",
   "execution_count": 18,
   "id": "789053f0",
   "metadata": {},
   "outputs": [
    {
     "name": "stdout",
     "output_type": "stream",
     "text": [
      "['a', 'b', 'c', 'd', 'e', 'a']\n",
      "('a', 'b', 'c', 'd', 'e', 'a')\n"
     ]
    }
   ],
   "source": [
    "liste = ['a', 'b', 'c', 'd', 'e', 'a'] \n",
    "print(liste)\n",
    "tup = ('a', 'b', 'c', 'd', 'e', 'a')\n",
    "print(tup)"
   ]
  },
  {
   "cell_type": "code",
   "execution_count": 20,
   "id": "60ed3bdc",
   "metadata": {},
   "outputs": [
    {
     "data": {
      "text/plain": [
       "[12312, 'b', 'c', 'd', 'e', 'a']"
      ]
     },
     "execution_count": 20,
     "metadata": {},
     "output_type": "execute_result"
    }
   ],
   "source": [
    "liste[0] = 12312                 # liste de değşiklik yapabiliriz.        \n",
    "liste"
   ]
  },
  {
   "cell_type": "code",
   "execution_count": 22,
   "id": "ef338187",
   "metadata": {},
   "outputs": [
    {
     "ename": "TypeError",
     "evalue": "'tuple' object does not support item assignment",
     "output_type": "error",
     "traceback": [
      "\u001b[1;31m---------------------------------------------------------------------------\u001b[0m",
      "\u001b[1;31mTypeError\u001b[0m                                 Traceback (most recent call last)",
      "Cell \u001b[1;32mIn[22], line 1\u001b[0m\n\u001b[1;32m----> 1\u001b[0m tup[\u001b[38;5;241m0\u001b[39m]\u001b[38;5;241m=\u001b[39m \u001b[38;5;241m12312\u001b[39m\n\u001b[0;32m      2\u001b[0m tup\n",
      "\u001b[1;31mTypeError\u001b[0m: 'tuple' object does not support item assignment"
     ]
    }
   ],
   "source": [
    "tup[0]= 12312          # tup değiştirilemez.hata verdi.\n",
    "tup"
   ]
  },
  {
   "cell_type": "code",
   "execution_count": 24,
   "id": "223bea92",
   "metadata": {},
   "outputs": [
    {
     "data": {
      "text/plain": [
       "2"
      ]
     },
     "execution_count": 24,
     "metadata": {},
     "output_type": "execute_result"
    }
   ],
   "source": [
    "tup.count('a')          #'a' kaç defa geçiyor?"
   ]
  },
  {
   "cell_type": "code",
   "execution_count": 25,
   "id": "c27e655f",
   "metadata": {},
   "outputs": [
    {
     "data": {
      "text/plain": [
       "1"
      ]
     },
     "execution_count": 25,
     "metadata": {},
     "output_type": "execute_result"
    }
   ],
   "source": [
    "tup.index('b')         #'b' kaçıncı indexte? 1"
   ]
  },
  {
   "cell_type": "markdown",
   "id": "2fa3a5ad",
   "metadata": {},
   "source": [
    "# dictionary"
   ]
  },
  {
   "cell_type": "code",
   "execution_count": null,
   "id": "ef376f87",
   "metadata": {},
   "outputs": [],
   "source": [
    "#çoklu değer tutar. bir insanın yaşı,bayu,kilosu vs. gibi. süslü parantez ile {}"
   ]
  },
  {
   "cell_type": "code",
   "execution_count": 28,
   "id": "cea9f938",
   "metadata": {},
   "outputs": [
    {
     "data": {
      "text/plain": [
       "{'isim': 'Mesut', 'yas': 32, 'lokasyon': 'Berlin'}"
      ]
     },
     "execution_count": 28,
     "metadata": {},
     "output_type": "execute_result"
    }
   ],
   "source": [
    "dict1 = {'isim': 'Mesut', 'yas':32, 'lokasyon':'Berlin'}   #isim,yas ve lok. birer anahtardır.\n",
    "dict1"
   ]
  },
  {
   "cell_type": "code",
   "execution_count": 29,
   "id": "bcac4e0b",
   "metadata": {},
   "outputs": [],
   "source": [
    "dict1 = {\n",
    "    'isim': 'Mesut',                   # bu şekilde yazmak daha profesyonelce. daha okunaklı\n",
    "    'yas':32, \n",
    "    'lokasyon':'Berlin'\n",
    "}"
   ]
  },
  {
   "cell_type": "code",
   "execution_count": 31,
   "id": "ce26daa1",
   "metadata": {},
   "outputs": [
    {
     "data": {
      "text/plain": [
       "{'isim': 'Mesut',\n",
       " 'yas': 32,\n",
       " 'dogdugu_sehir': 'Istanbul',\n",
       " 'yasadigi_sehir': 'Berlin'}"
      ]
     },
     "execution_count": 31,
     "metadata": {},
     "output_type": "execute_result"
    }
   ],
   "source": [
    "dict2 = {\n",
    "    'isim': 'Mesut',                  #lokasyonu doğduğu şehir ve yaşadığı şehir olarak bölmek istersek\n",
    "    'yas':32, \n",
    "    'dogdugu_sehir': 'Istanbul',\n",
    "    'yasadigi_sehir': 'Berlin'\n",
    "    ##'Lokasyon':\n",
    "    \n",
    "}\n",
    "dict2"
   ]
  },
  {
   "cell_type": "code",
   "execution_count": 30,
   "id": "73605dcc",
   "metadata": {},
   "outputs": [
    {
     "data": {
      "text/plain": [
       "{'isim': 'Mesut',\n",
       " 'yas': 32,\n",
       " 'lokasyon': {'dogdugu_sehir': 'Istanbul', 'yasadigi_sehir': 'Berlin'}}"
      ]
     },
     "execution_count": 30,
     "metadata": {},
     "output_type": "execute_result"
    }
   ],
   "source": [
    "dict3 = {\n",
    "    'isim': 'Mesut',                  #lokasyonu doğduğu şehir ve yaşadığı şehir olarak lokasyon içerisinde bölersek.\n",
    "    'yas':32, \n",
    "    'lokasyon': {\n",
    "        'dogdugu_sehir': 'Istanbul',\n",
    "        'yasadigi_sehir': 'Berlin'\n",
    "    }\n",
    "}\n",
    "dict3"
   ]
  },
  {
   "cell_type": "code",
   "execution_count": 32,
   "id": "44967e86",
   "metadata": {},
   "outputs": [
    {
     "data": {
      "text/plain": [
       "32"
      ]
     },
     "execution_count": 32,
     "metadata": {},
     "output_type": "execute_result"
    }
   ],
   "source": [
    "dict2['yas']           #yası çağırdık."
   ]
  },
  {
   "cell_type": "code",
   "execution_count": 37,
   "id": "cc27484b",
   "metadata": {},
   "outputs": [
    {
     "data": {
      "text/plain": [
       "32"
      ]
     },
     "execution_count": 37,
     "metadata": {},
     "output_type": "execute_result"
    }
   ],
   "source": [
    "dict2.get('yas')      # .get ilede çağırabiliriz. (normal parantezle)"
   ]
  },
  {
   "cell_type": "code",
   "execution_count": 33,
   "id": "902ca4c2",
   "metadata": {},
   "outputs": [
    {
     "data": {
      "text/plain": [
       "{'dogdugu_sehir': 'Istanbul', 'yasadigi_sehir': 'Berlin'}"
      ]
     },
     "execution_count": 33,
     "metadata": {},
     "output_type": "execute_result"
    }
   ],
   "source": [
    "dict3['lokasyon']"
   ]
  },
  {
   "cell_type": "code",
   "execution_count": 35,
   "id": "8b5e080b",
   "metadata": {},
   "outputs": [
    {
     "data": {
      "text/plain": [
       "'Berlin'"
      ]
     },
     "execution_count": 35,
     "metadata": {},
     "output_type": "execute_result"
    }
   ],
   "source": [
    "dict3['lokasyon']['yasadigi_sehir']"
   ]
  },
  {
   "cell_type": "code",
   "execution_count": 39,
   "id": "67b62c0b",
   "metadata": {},
   "outputs": [
    {
     "data": {
      "text/plain": [
       "'Berlin'"
      ]
     },
     "execution_count": 39,
     "metadata": {},
     "output_type": "execute_result"
    }
   ],
   "source": [
    "dict3.get('lokasyon').get('yasadigi_sehir')    # get ile böyle. (köşeli parantez ile yapmak daha mantıklı.)"
   ]
  },
  {
   "cell_type": "code",
   "execution_count": 41,
   "id": "4d01a0da",
   "metadata": {},
   "outputs": [
    {
     "data": {
      "text/plain": [
       "dict_keys(['isim', 'yas', 'dogdugu_sehir', 'yasadigi_sehir'])"
      ]
     },
     "execution_count": 41,
     "metadata": {},
     "output_type": "execute_result"
    }
   ],
   "source": [
    "dict2.keys()           #.keys() anahtarları getirir."
   ]
  },
  {
   "cell_type": "code",
   "execution_count": 42,
   "id": "6b2c7f41",
   "metadata": {},
   "outputs": [
    {
     "data": {
      "text/plain": [
       "dict_values(['Mesut', 32, 'Istanbul', 'Berlin'])"
      ]
     },
     "execution_count": 42,
     "metadata": {},
     "output_type": "execute_result"
    }
   ],
   "source": [
    "dict2.values()       #.values() anahtarlara karşılık gelen değerleri getirir."
   ]
  },
  {
   "cell_type": "code",
   "execution_count": 44,
   "id": "bf1ea6dd",
   "metadata": {},
   "outputs": [
    {
     "data": {
      "text/plain": [
       "dict_items([('isim', 'Mesut'), ('yas', 32), ('dogdugu_sehir', 'Istanbul'), ('yasadigi_sehir', 'Berlin')])"
      ]
     },
     "execution_count": 44,
     "metadata": {},
     "output_type": "execute_result"
    }
   ],
   "source": [
    "dict2.items()        #.items() hem anahtar hem değeri getirir."
   ]
  },
  {
   "cell_type": "code",
   "execution_count": null,
   "id": "dfc28225",
   "metadata": {},
   "outputs": [],
   "source": []
  },
  {
   "cell_type": "code",
   "execution_count": null,
   "id": "bb2f6e90",
   "metadata": {},
   "outputs": [],
   "source": []
  },
  {
   "cell_type": "code",
   "execution_count": null,
   "id": "712255b6",
   "metadata": {},
   "outputs": [],
   "source": []
  },
  {
   "cell_type": "code",
   "execution_count": null,
   "id": "af3c2a34",
   "metadata": {},
   "outputs": [],
   "source": []
  },
  {
   "cell_type": "code",
   "execution_count": null,
   "id": "c4a62b8a",
   "metadata": {},
   "outputs": [],
   "source": []
  },
  {
   "cell_type": "code",
   "execution_count": null,
   "id": "c8c2cc03",
   "metadata": {},
   "outputs": [],
   "source": []
  }
 ],
 "metadata": {
  "kernelspec": {
   "display_name": "Python 3 (ipykernel)",
   "language": "python",
   "name": "python3"
  },
  "language_info": {
   "codemirror_mode": {
    "name": "ipython",
    "version": 3
   },
   "file_extension": ".py",
   "mimetype": "text/x-python",
   "name": "python",
   "nbconvert_exporter": "python",
   "pygments_lexer": "ipython3",
   "version": "3.11.5"
  }
 },
 "nbformat": 4,
 "nbformat_minor": 5
}
