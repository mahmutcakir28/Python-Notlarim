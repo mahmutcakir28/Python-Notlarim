{
 "cells": [
  {
   "cell_type": "code",
   "execution_count": 1,
   "id": "771dfee3",
   "metadata": {},
   "outputs": [],
   "source": [
    "import os"
   ]
  },
  {
   "cell_type": "code",
   "execution_count": 11,
   "id": "e88546bf",
   "metadata": {},
   "outputs": [],
   "source": [
    "os.mkdir('C:\\\\Users\\\\321182\\\\Desktop\\\\yeni_klasör')    # Klasör oluşturduk.(aralarda iki tane '\\\\' kullandık.)"
   ]
  },
  {
   "cell_type": "code",
   "execution_count": 12,
   "id": "3b2e2556",
   "metadata": {},
   "outputs": [],
   "source": [
    "os.chdir('C:\\\\Users\\\\321182\\\\Desktop\\\\')             # klasör yolunu belirledik."
   ]
  },
  {
   "cell_type": "code",
   "execution_count": 13,
   "id": "48ce9d01",
   "metadata": {},
   "outputs": [
    {
     "data": {
      "text/plain": [
       "['Anaconda Navigator.lnk',\n",
       " 'desktop.ini',\n",
       " 'IDLE (Python 3.12 64-bit).lnk',\n",
       " 'Python',\n",
       " 'Sifirdan-Ileri-Seviyeye-Python-Programlama-master',\n",
       " 'YakinKampus_PythonKursu',\n",
       " 'yeni_klasör']"
      ]
     },
     "execution_count": 13,
     "metadata": {},
     "output_type": "execute_result"
    }
   ],
   "source": [
    "os.listdir()                                         # yoldaki klasörleri gösterttik."
   ]
  },
  {
   "cell_type": "code",
   "execution_count": 15,
   "id": "d1ebd5dd",
   "metadata": {},
   "outputs": [],
   "source": [
    "## os.O_RDONLY − Read Only      - Sadece Oku\n",
    "## os.O_WRONLY − Write Only     - Sadece Yaz\n",
    "## os.O_RDWR   − Read and Write - Oku ve Yaz\n",
    "## os.O_CREAT  - Create         - Olustur\n",
    "\n",
    "yeni_klasör = os.open('yeni_dosya.txt', os.O_RDWR|os.O_CREAT)  #Dosya oluşturma.\n",
    "os.write(yeni_klasör, \"Merhaba dünya!\".encode())\n",
    "os.close(yeni_klasör)"
   ]
  },
  {
   "cell_type": "code",
   "execution_count": 16,
   "id": "2e7bdda3",
   "metadata": {},
   "outputs": [
    {
     "name": "stdout",
     "output_type": "stream",
     "text": [
      "Merhaba dünya!\n"
     ]
    }
   ],
   "source": [
    "yeni_dosya = os.open('yeni_dosya.txt', os.O_RDONLY)            #Dosya içerisini okuma.  \n",
    "uzunluk = os.stat(yeni_dosya).st_size\n",
    "icerik = os.read(yeni_dosya,uzunluk)\n",
    "print(icerik.decode())\n",
    "os.close(yeni_dosya)"
   ]
  },
  {
   "cell_type": "code",
   "execution_count": null,
   "id": "be236259",
   "metadata": {},
   "outputs": [],
   "source": [
    "#os.unlink('yeni_dosya.txt')      # dosyayı siler."
   ]
  },
  {
   "cell_type": "code",
   "execution_count": null,
   "id": "8e3bdfbe",
   "metadata": {},
   "outputs": [],
   "source": [
    "# os.rename(\"deneme_yeni\", \"deneme_eski\")  # isim değiştir."
   ]
  },
  {
   "cell_type": "code",
   "execution_count": null,
   "id": "8372d96b",
   "metadata": {},
   "outputs": [],
   "source": []
  },
  {
   "cell_type": "code",
   "execution_count": 1,
   "id": "4f37f8c1",
   "metadata": {},
   "outputs": [
    {
     "ename": "KeyboardInterrupt",
     "evalue": "Interrupted by user",
     "output_type": "error",
     "traceback": [
      "\u001b[1;31m---------------------------------------------------------------------------\u001b[0m",
      "\u001b[1;31mKeyboardInterrupt\u001b[0m                         Traceback (most recent call last)",
      "Cell \u001b[1;32mIn[1], line 21\u001b[0m\n\u001b[0;32m     17\u001b[0m         \u001b[38;5;28;01melse\u001b[39;00m:\n\u001b[0;32m     18\u001b[0m             \u001b[38;5;28mprint\u001b[39m(\u001b[38;5;124m\"\u001b[39m\u001b[38;5;132;01m{}\u001b[39;00m\u001b[38;5;124m tek bir sayidir.\u001b[39m\u001b[38;5;124m\"\u001b[39m\u001b[38;5;241m.\u001b[39mformat(sayi))\n\u001b[1;32m---> 21\u001b[0m tek_cift()\n",
      "Cell \u001b[1;32mIn[1], line 4\u001b[0m, in \u001b[0;36mtek_cift\u001b[1;34m()\u001b[0m\n\u001b[0;32m      1\u001b[0m \u001b[38;5;28;01mdef\u001b[39;00m \u001b[38;5;21mtek_cift\u001b[39m():\n\u001b[0;32m      2\u001b[0m     \u001b[38;5;28;01mwhile\u001b[39;00m \u001b[38;5;28;01mTrue\u001b[39;00m:\n\u001b[1;32m----> 4\u001b[0m         cikis \u001b[38;5;241m=\u001b[39m \u001b[38;5;28minput\u001b[39m(\u001b[38;5;124m\"\u001b[39m\u001b[38;5;124mçıkış için \u001b[39m\u001b[38;5;124m'\u001b[39m\u001b[38;5;124mq\u001b[39m\u001b[38;5;124m'\u001b[39m\u001b[38;5;124m ya basınız \u001b[39m\u001b[38;5;124m\"\u001b[39m)\n\u001b[0;32m      5\u001b[0m         \u001b[38;5;28;01mif\u001b[39;00m cikis \u001b[38;5;241m==\u001b[39m \u001b[38;5;124m'\u001b[39m\u001b[38;5;124mq\u001b[39m\u001b[38;5;124m'\u001b[39m:\n\u001b[0;32m      6\u001b[0m             \u001b[38;5;28;01mbreak\u001b[39;00m\n",
      "File \u001b[1;32m~\\AppData\\Local\\anaconda3\\Lib\\site-packages\\ipykernel\\kernelbase.py:1202\u001b[0m, in \u001b[0;36mKernel.raw_input\u001b[1;34m(self, prompt)\u001b[0m\n\u001b[0;32m   1200\u001b[0m     msg \u001b[38;5;241m=\u001b[39m \u001b[38;5;124m\"\u001b[39m\u001b[38;5;124mraw_input was called, but this frontend does not support input requests.\u001b[39m\u001b[38;5;124m\"\u001b[39m\n\u001b[0;32m   1201\u001b[0m     \u001b[38;5;28;01mraise\u001b[39;00m StdinNotImplementedError(msg)\n\u001b[1;32m-> 1202\u001b[0m \u001b[38;5;28;01mreturn\u001b[39;00m \u001b[38;5;28mself\u001b[39m\u001b[38;5;241m.\u001b[39m_input_request(\n\u001b[0;32m   1203\u001b[0m     \u001b[38;5;28mstr\u001b[39m(prompt),\n\u001b[0;32m   1204\u001b[0m     \u001b[38;5;28mself\u001b[39m\u001b[38;5;241m.\u001b[39m_parent_ident[\u001b[38;5;124m\"\u001b[39m\u001b[38;5;124mshell\u001b[39m\u001b[38;5;124m\"\u001b[39m],\n\u001b[0;32m   1205\u001b[0m     \u001b[38;5;28mself\u001b[39m\u001b[38;5;241m.\u001b[39mget_parent(\u001b[38;5;124m\"\u001b[39m\u001b[38;5;124mshell\u001b[39m\u001b[38;5;124m\"\u001b[39m),\n\u001b[0;32m   1206\u001b[0m     password\u001b[38;5;241m=\u001b[39m\u001b[38;5;28;01mFalse\u001b[39;00m,\n\u001b[0;32m   1207\u001b[0m )\n",
      "File \u001b[1;32m~\\AppData\\Local\\anaconda3\\Lib\\site-packages\\ipykernel\\kernelbase.py:1245\u001b[0m, in \u001b[0;36mKernel._input_request\u001b[1;34m(self, prompt, ident, parent, password)\u001b[0m\n\u001b[0;32m   1242\u001b[0m \u001b[38;5;28;01mexcept\u001b[39;00m \u001b[38;5;167;01mKeyboardInterrupt\u001b[39;00m:\n\u001b[0;32m   1243\u001b[0m     \u001b[38;5;66;03m# re-raise KeyboardInterrupt, to truncate traceback\u001b[39;00m\n\u001b[0;32m   1244\u001b[0m     msg \u001b[38;5;241m=\u001b[39m \u001b[38;5;124m\"\u001b[39m\u001b[38;5;124mInterrupted by user\u001b[39m\u001b[38;5;124m\"\u001b[39m\n\u001b[1;32m-> 1245\u001b[0m     \u001b[38;5;28;01mraise\u001b[39;00m \u001b[38;5;167;01mKeyboardInterrupt\u001b[39;00m(msg) \u001b[38;5;28;01mfrom\u001b[39;00m \u001b[38;5;28;01mNone\u001b[39;00m\n\u001b[0;32m   1246\u001b[0m \u001b[38;5;28;01mexcept\u001b[39;00m \u001b[38;5;167;01mException\u001b[39;00m:\n\u001b[0;32m   1247\u001b[0m     \u001b[38;5;28mself\u001b[39m\u001b[38;5;241m.\u001b[39mlog\u001b[38;5;241m.\u001b[39mwarning(\u001b[38;5;124m\"\u001b[39m\u001b[38;5;124mInvalid Message:\u001b[39m\u001b[38;5;124m\"\u001b[39m, exc_info\u001b[38;5;241m=\u001b[39m\u001b[38;5;28;01mTrue\u001b[39;00m)\n",
      "\u001b[1;31mKeyboardInterrupt\u001b[0m: Interrupted by user"
     ]
    }
   ],
   "source": [
    "def tek_cift():\n",
    "    while True:\n",
    "        \n",
    "        cikis = input(\"çıkış için 'q' ya basınız \")\n",
    "        if cikis == 'q':\n",
    "            break\n",
    "        \n",
    "        sayi = int(input(\"bir sayi giriniz: \"))\n",
    "    \n",
    "        if sayi == 15:\n",
    "            break\n",
    "            \n",
    "        elif sayi%2==0:\n",
    "            print(\"{} çift bir sayidir.\".format(sayi))\n",
    "            \n",
    "        \n",
    "        else:\n",
    "            print(\"{} tek bir sayidir.\".format(sayi))\n",
    "            \n",
    "            \n",
    "tek_cift()\n",
    "    "
   ]
  },
  {
   "cell_type": "code",
   "execution_count": null,
   "id": "7e4f12de",
   "metadata": {},
   "outputs": [],
   "source": []
  },
  {
   "cell_type": "code",
   "execution_count": null,
   "id": "ed9d022c",
   "metadata": {},
   "outputs": [],
   "source": [
    "def tek_mi_cift_mi(sayi):\n",
    "    if sayi % 2 == 0:\n",
    "        return \"Çift\"\n",
    "    else:\n",
    "        return \"Tek\"\n",
    "\n",
    "sayi = int(input(\"Bir sayı girin: \"))\n",
    "print(tek_mi_cift_mi(sayi))\n"
   ]
  },
  {
   "cell_type": "code",
   "execution_count": null,
   "id": "966f0a3d",
   "metadata": {},
   "outputs": [],
   "source": [
    "tek_mi_cift_mi(sayi)"
   ]
  },
  {
   "cell_type": "code",
   "execution_count": null,
   "id": "6bce8ddb",
   "metadata": {},
   "outputs": [],
   "source": []
  },
  {
   "cell_type": "code",
   "execution_count": null,
   "id": "f627e86d",
   "metadata": {},
   "outputs": [],
   "source": []
  },
  {
   "cell_type": "code",
   "execution_count": null,
   "id": "52a66d2a",
   "metadata": {},
   "outputs": [],
   "source": []
  }
 ],
 "metadata": {
  "kernelspec": {
   "display_name": "Python 3 (ipykernel)",
   "language": "python",
   "name": "python3"
  },
  "language_info": {
   "codemirror_mode": {
    "name": "ipython",
    "version": 3
   },
   "file_extension": ".py",
   "mimetype": "text/x-python",
   "name": "python",
   "nbconvert_exporter": "python",
   "pygments_lexer": "ipython3",
   "version": "3.11.5"
  }
 },
 "nbformat": 4,
 "nbformat_minor": 5
}
