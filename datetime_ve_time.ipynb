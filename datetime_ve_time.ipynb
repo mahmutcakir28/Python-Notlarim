{
 "cells": [
  {
   "cell_type": "code",
   "execution_count": 1,
   "id": "f65f9fe2",
   "metadata": {},
   "outputs": [],
   "source": [
    "import datetime"
   ]
  },
  {
   "cell_type": "markdown",
   "id": "883a61d6",
   "metadata": {},
   "source": [
    "# datetime.date"
   ]
  },
  {
   "cell_type": "code",
   "execution_count": 2,
   "id": "18dcabc3",
   "metadata": {},
   "outputs": [],
   "source": [
    "from datetime import date   # kısaca 'date' olarakta çağırabiliriz artık."
   ]
  },
  {
   "cell_type": "code",
   "execution_count": 4,
   "id": "ad0ca332",
   "metadata": {},
   "outputs": [
    {
     "data": {
      "text/plain": [
       "datetime.date(2024, 3, 16)"
      ]
     },
     "execution_count": 4,
     "metadata": {},
     "output_type": "execute_result"
    }
   ],
   "source": [
    "bugün = date.today()\n",
    "bugün"
   ]
  },
  {
   "cell_type": "code",
   "execution_count": 5,
   "id": "05cf8e2f",
   "metadata": {},
   "outputs": [
    {
     "data": {
      "text/plain": [
       "datetime.date(2024, 3, 15)"
      ]
     },
     "execution_count": 5,
     "metadata": {},
     "output_type": "execute_result"
    }
   ],
   "source": [
    "dün = date(2024,3,15)\n",
    "dün"
   ]
  },
  {
   "cell_type": "code",
   "execution_count": 6,
   "id": "9db83f0a",
   "metadata": {},
   "outputs": [
    {
     "data": {
      "text/plain": [
       "datetime.timedelta(days=1)"
      ]
     },
     "execution_count": 6,
     "metadata": {},
     "output_type": "execute_result"
    }
   ],
   "source": [
    "bugün - dün"
   ]
  },
  {
   "cell_type": "code",
   "execution_count": 9,
   "id": "fa75b855",
   "metadata": {},
   "outputs": [
    {
     "data": {
      "text/plain": [
       "datetime.date(2024, 3, 17)"
      ]
     },
     "execution_count": 9,
     "metadata": {},
     "output_type": "execute_result"
    }
   ],
   "source": [
    "yarın = bugün + datetime.timedelta(days = 1)\n",
    "yarın"
   ]
  },
  {
   "cell_type": "code",
   "execution_count": 10,
   "id": "3dcd6b54",
   "metadata": {},
   "outputs": [
    {
     "data": {
      "text/plain": [
       "False"
      ]
     },
     "execution_count": 10,
     "metadata": {},
     "output_type": "execute_result"
    }
   ],
   "source": [
    " dün > bugün"
   ]
  },
  {
   "cell_type": "code",
   "execution_count": 11,
   "id": "b4e29b3f",
   "metadata": {},
   "outputs": [
    {
     "data": {
      "text/plain": [
       "2024"
      ]
     },
     "execution_count": 11,
     "metadata": {},
     "output_type": "execute_result"
    }
   ],
   "source": [
    "bugün.year"
   ]
  },
  {
   "cell_type": "code",
   "execution_count": 13,
   "id": "6cb365c1",
   "metadata": {},
   "outputs": [
    {
     "data": {
      "text/plain": [
       "3"
      ]
     },
     "execution_count": 13,
     "metadata": {},
     "output_type": "execute_result"
    }
   ],
   "source": [
    "bugün.month"
   ]
  },
  {
   "cell_type": "code",
   "execution_count": 14,
   "id": "fa2da5bf",
   "metadata": {},
   "outputs": [
    {
     "data": {
      "text/plain": [
       "datetime.IsoCalendarDate(year=2024, week=11, weekday=6)"
      ]
     },
     "execution_count": 14,
     "metadata": {},
     "output_type": "execute_result"
    }
   ],
   "source": [
    "date.isocalendar(bugün)   # haftayı bulmak için"
   ]
  },
  {
   "cell_type": "code",
   "execution_count": 15,
   "id": "f304d5db",
   "metadata": {},
   "outputs": [
    {
     "data": {
      "text/plain": [
       "5"
      ]
     },
     "execution_count": 15,
     "metadata": {},
     "output_type": "execute_result"
    }
   ],
   "source": [
    "date.weekday(bugün)    # haftanın kaçıncı günü. saymaya sıfırdan başlar."
   ]
  },
  {
   "cell_type": "code",
   "execution_count": 16,
   "id": "c9d69654",
   "metadata": {},
   "outputs": [
    {
     "data": {
      "text/plain": [
       "'Sat Mar 16 00:00:00 2024'"
      ]
     },
     "execution_count": 16,
     "metadata": {},
     "output_type": "execute_result"
    }
   ],
   "source": [
    "date.ctime(bugün)"
   ]
  },
  {
   "cell_type": "markdown",
   "id": "c2fda72b",
   "metadata": {},
   "source": [
    "# datetime.time"
   ]
  },
  {
   "cell_type": "code",
   "execution_count": 17,
   "id": "5ab1ec4c",
   "metadata": {},
   "outputs": [],
   "source": [
    "from datetime import time"
   ]
  },
  {
   "cell_type": "code",
   "execution_count": 18,
   "id": "c64388d0",
   "metadata": {},
   "outputs": [
    {
     "name": "stdout",
     "output_type": "stream",
     "text": [
      "21:15:05\n"
     ]
    }
   ],
   "source": [
    "zaman = time(21,15,5)\n",
    "print(zaman)"
   ]
  },
  {
   "cell_type": "code",
   "execution_count": 19,
   "id": "d30e90e3",
   "metadata": {},
   "outputs": [
    {
     "data": {
      "text/plain": [
       "21"
      ]
     },
     "execution_count": 19,
     "metadata": {},
     "output_type": "execute_result"
    }
   ],
   "source": [
    "zaman.hour"
   ]
  },
  {
   "cell_type": "code",
   "execution_count": 20,
   "id": "42b1de3f",
   "metadata": {},
   "outputs": [
    {
     "data": {
      "text/plain": [
       "15"
      ]
     },
     "execution_count": 20,
     "metadata": {},
     "output_type": "execute_result"
    }
   ],
   "source": [
    "zaman.minute"
   ]
  },
  {
   "cell_type": "code",
   "execution_count": 21,
   "id": "1c22703b",
   "metadata": {},
   "outputs": [
    {
     "data": {
      "text/plain": [
       "5"
      ]
     },
     "execution_count": 21,
     "metadata": {},
     "output_type": "execute_result"
    }
   ],
   "source": [
    "zaman.second"
   ]
  },
  {
   "cell_type": "markdown",
   "id": "0a6f31e6",
   "metadata": {},
   "source": [
    "# datetime.datetime"
   ]
  },
  {
   "cell_type": "code",
   "execution_count": 22,
   "id": "645cd2d7",
   "metadata": {},
   "outputs": [
    {
     "name": "stdout",
     "output_type": "stream",
     "text": [
      "2020-10-21 05:03:00\n"
     ]
    }
   ],
   "source": [
    "dt = datetime.datetime(2020,10,21,5,3)\n",
    "print(dt)"
   ]
  },
  {
   "cell_type": "code",
   "execution_count": 23,
   "id": "609f5caf",
   "metadata": {},
   "outputs": [
    {
     "data": {
      "text/plain": [
       "21"
      ]
     },
     "execution_count": 23,
     "metadata": {},
     "output_type": "execute_result"
    }
   ],
   "source": [
    "dt.day"
   ]
  },
  {
   "cell_type": "markdown",
   "id": "16df7613",
   "metadata": {},
   "source": [
    "# time"
   ]
  },
  {
   "cell_type": "code",
   "execution_count": 24,
   "id": "eac139cd",
   "metadata": {},
   "outputs": [],
   "source": [
    "import time"
   ]
  },
  {
   "cell_type": "code",
   "execution_count": 25,
   "id": "8583f230",
   "metadata": {},
   "outputs": [
    {
     "data": {
      "text/plain": [
       "1710615440.7585635"
      ]
     },
     "execution_count": 25,
     "metadata": {},
     "output_type": "execute_result"
    }
   ],
   "source": [
    "time.time()"
   ]
  },
  {
   "cell_type": "code",
   "execution_count": 29,
   "id": "5547130f",
   "metadata": {},
   "outputs": [
    {
     "name": "stdout",
     "output_type": "stream",
     "text": [
      "Baslama Zamani:\t1710619676.5550501\n",
      "Bitis Zamani:\t1710619681.5563874\n",
      "Bitis Süresi:\t5.001337289810181\n"
     ]
    }
   ],
   "source": [
    "baslangic_zamani = time.time()\n",
    "print(\"Baslama Zamani:\\t{}\".format(baslangic_zamani))\n",
    "time.sleep(5)\n",
    "bitis_zamani = time.time()\n",
    "print(\"Bitis Zamani:\\t{}\".format(bitis_zamani))\n",
    "print(\"Bitis Süresi:\\t{}\".format(bitis_zamani- baslangic_zamani))"
   ]
  }
 ],
 "metadata": {
  "kernelspec": {
   "display_name": "Python 3 (ipykernel)",
   "language": "python",
   "name": "python3"
  },
  "language_info": {
   "codemirror_mode": {
    "name": "ipython",
    "version": 3
   },
   "file_extension": ".py",
   "mimetype": "text/x-python",
   "name": "python",
   "nbconvert_exporter": "python",
   "pygments_lexer": "ipython3",
   "version": "3.11.5"
  }
 },
 "nbformat": 4,
 "nbformat_minor": 5
}
