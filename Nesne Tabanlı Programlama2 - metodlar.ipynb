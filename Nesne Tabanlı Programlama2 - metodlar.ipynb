{
 "cells": [
  {
   "cell_type": "code",
   "execution_count": 18,
   "id": "cad26182",
   "metadata": {},
   "outputs": [],
   "source": [
    "class Yazılımcı():\n",
    "    def __init__(self,isim,soyisim,numara,maaş,diller):\n",
    "        self.isim = isim\n",
    "        self.soyisim = soyisim\n",
    "        self.numara = numara\n",
    "        self.maaş = maaş\n",
    "        self. diller = diller\n",
    "    def bilgilerigöster(self):\n",
    "        print(\"\"\"\n",
    "        Yazılımcı Objesinin  Özellikleri \n",
    "        \n",
    "        İsim : {}\n",
    "        \n",
    "        Soyisim : {}\n",
    "        \n",
    "        Numara: {}\n",
    "        \n",
    "        Maaş: {}\n",
    "        \n",
    "        Bildiği Diller: {}\n",
    "        \n",
    "        \"\"\".format(self.isim,self.soyisim,self.numara,self.maaş,self. diller))\n",
    "    \n",
    "    def zam_yap(self,zam_miktarı):\n",
    "        print(\"Zam Yapılıyor...\")\n",
    "        \n",
    "        self.maaş +=zam_miktarı\n",
    "        \n",
    "    def dil_ekle(self,yeni_dil):\n",
    "        print(\"Dil Ekleniyor...\")\n",
    "        self.diller.append(yeni_dil)"
   ]
  },
  {
   "cell_type": "code",
   "execution_count": 19,
   "id": "d8cc0c83",
   "metadata": {},
   "outputs": [],
   "source": [
    "yazılımcı = Yazılımcı(\"Mustafa Murat\",\"Coşkun\",12345,3000,[\"Python\",\"Java\",\"C\",\"Javascript\"])"
   ]
  },
  {
   "cell_type": "code",
   "execution_count": 20,
   "id": "eb93e436",
   "metadata": {},
   "outputs": [
    {
     "data": {
      "text/plain": [
       "<__main__.Yazılımcı at 0x293d7fad090>"
      ]
     },
     "execution_count": 20,
     "metadata": {},
     "output_type": "execute_result"
    }
   ],
   "source": [
    "yazılımcı"
   ]
  },
  {
   "cell_type": "code",
   "execution_count": 21,
   "id": "018a8c58",
   "metadata": {},
   "outputs": [
    {
     "name": "stdout",
     "output_type": "stream",
     "text": [
      "\n",
      "        Yazılımcı Objesinin  Özellikleri \n",
      "        \n",
      "        İsim : Mustafa Murat\n",
      "        \n",
      "        Soyisim : Coşkun\n",
      "        \n",
      "        Numara: 12345\n",
      "        \n",
      "        Maaş: 3000\n",
      "        \n",
      "        Bildiği Diller: ['Python', 'Java', 'C', 'Javascript']\n",
      "        \n",
      "        \n"
     ]
    }
   ],
   "source": [
    "yazılımcı.bilgilerigöster()"
   ]
  },
  {
   "cell_type": "code",
   "execution_count": 22,
   "id": "e791295e",
   "metadata": {},
   "outputs": [
    {
     "name": "stdout",
     "output_type": "stream",
     "text": [
      "Dil Ekleniyor...\n"
     ]
    }
   ],
   "source": [
    "yazılımcı.dil_ekle(\"goLang\")"
   ]
  },
  {
   "cell_type": "code",
   "execution_count": 23,
   "id": "89e01786",
   "metadata": {},
   "outputs": [
    {
     "name": "stdout",
     "output_type": "stream",
     "text": [
      "\n",
      "        Yazılımcı Objesinin  Özellikleri \n",
      "        \n",
      "        İsim : Mustafa Murat\n",
      "        \n",
      "        Soyisim : Coşkun\n",
      "        \n",
      "        Numara: 12345\n",
      "        \n",
      "        Maaş: 3000\n",
      "        \n",
      "        Bildiği Diller: ['Python', 'Java', 'C', 'Javascript', 'goLang']\n",
      "        \n",
      "        \n"
     ]
    }
   ],
   "source": [
    "yazılımcı.bilgilerigöster()"
   ]
  },
  {
   "cell_type": "code",
   "execution_count": 24,
   "id": "f04d62d0",
   "metadata": {},
   "outputs": [
    {
     "name": "stdout",
     "output_type": "stream",
     "text": [
      "Zam Yapılıyor...\n"
     ]
    }
   ],
   "source": [
    "yazılımcı.zam_yap(500)"
   ]
  },
  {
   "cell_type": "code",
   "execution_count": 25,
   "id": "c801b1d8",
   "metadata": {},
   "outputs": [
    {
     "name": "stdout",
     "output_type": "stream",
     "text": [
      "\n",
      "        Yazılımcı Objesinin  Özellikleri \n",
      "        \n",
      "        İsim : Mustafa Murat\n",
      "        \n",
      "        Soyisim : Coşkun\n",
      "        \n",
      "        Numara: 12345\n",
      "        \n",
      "        Maaş: 3500\n",
      "        \n",
      "        Bildiği Diller: ['Python', 'Java', 'C', 'Javascript', 'goLang']\n",
      "        \n",
      "        \n"
     ]
    }
   ],
   "source": [
    "yazılımcı.bilgilerigöster()"
   ]
  },
  {
   "cell_type": "code",
   "execution_count": null,
   "id": "422ea315",
   "metadata": {},
   "outputs": [],
   "source": []
  }
 ],
 "metadata": {
  "kernelspec": {
   "display_name": "Python 3 (ipykernel)",
   "language": "python",
   "name": "python3"
  },
  "language_info": {
   "codemirror_mode": {
    "name": "ipython",
    "version": 3
   },
   "file_extension": ".py",
   "mimetype": "text/x-python",
   "name": "python",
   "nbconvert_exporter": "python",
   "pygments_lexer": "ipython3",
   "version": "3.11.5"
  }
 },
 "nbformat": 4,
 "nbformat_minor": 5
}
