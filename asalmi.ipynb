{
 "cells": [
  {
   "cell_type": "code",
   "execution_count": null,
   "id": "66d5c0a0",
   "metadata": {},
   "outputs": [],
   "source": [
    "sayi = 9\n",
    "asal = True\n",
    "\n",
    "if sayi > 1:\n",
    "    i = 2\n",
    "    while i * i <= sayi:\n",
    "        if sayi % i == 0:\n",
    "            asal = False\n",
    "            break\n",
    "        i += 1\n",
    "else:\n",
    "    asal = False\n",
    "\n",
    "if asal:\n",
    "    print(sayi, \"sayısı asaldır.\")\n",
    "else:\n",
    "    print(sayi, \"sayısı asal değildir.\")\n"
   ]
  }
 ],
 "metadata": {
  "kernelspec": {
   "display_name": "Python 3 (ipykernel)",
   "language": "python",
   "name": "python3"
  },
  "language_info": {
   "codemirror_mode": {
    "name": "ipython",
    "version": 3
   },
   "file_extension": ".py",
   "mimetype": "text/x-python",
   "name": "python",
   "nbconvert_exporter": "python",
   "pygments_lexer": "ipython3",
   "version": "3.11.5"
  }
 },
 "nbformat": 4,
 "nbformat_minor": 5
}
