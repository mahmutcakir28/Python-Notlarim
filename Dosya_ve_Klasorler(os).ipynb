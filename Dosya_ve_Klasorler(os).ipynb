{
 "cells": [
  {
   "cell_type": "markdown",
   "metadata": {},
   "source": [
    "## Magic Commands"
   ]
  },
  {
   "cell_type": "code",
   "execution_count": 1,
   "metadata": {
    "scrolled": false
   },
   "outputs": [
    {
     "name": "stdout",
     "output_type": "stream",
     "text": [
      " Volume in drive C has no label.\n",
      " Volume Serial Number is 6C4D-8A14\n",
      "\n",
      " Directory of C:\\Users\\321182\n",
      "\n",
      "10.03.2024  18:08    <DIR>          .\n",
      "10.03.2024  18:08    <DIR>          ..\n",
      "27.01.2024  18:10    <DIR>          .anaconda\n",
      "28.02.2024  00:03    <DIR>          .conda\n",
      "27.01.2024  18:10                25 .condarc\n",
      "27.01.2024  18:09    <DIR>          .continuum\n",
      "27.01.2024  20:09    <DIR>          .idlerc\n",
      "10.03.2024  18:06    <DIR>          .ipynb_checkpoints\n",
      "27.01.2024  19:45    <DIR>          .ipython\n",
      "27.01.2024  20:49    <DIR>          .jupyter\n",
      "27.02.2024  23:46            10.054 01_Giris_Test_Sorular.ipynb\n",
      "06.03.2024  19:29             6.153 03_Fonksiyonlar_Test_Sorular.ipynb\n",
      "06.03.2024  19:31            11.930 03_Fonksiyonlar_Test_Sorular_Yanitlar.ipynb\n",
      "06.03.2024  23:28            18.213 04_OOP_(Class).ipynb\n",
      "27.02.2024  21:48            23.426 1) Python GiriŸ.ipynb\n",
      "08.12.2023  10:43    <DIR>          3D Objects\n",
      "23.02.2024  19:57             1.546 asal_say�_bulma.ipynb\n",
      "02.03.2024  22:18             1.024 asalmi.ipynb\n",
      "31.01.2024  21:21            10.782 B”l�m3 KoŸullu Durumlar.ipynb\n",
      "13.02.2024  21:41             7.724 break ve continue .ipynb\n",
      "13.02.2024  23:26             4.993 break ve continue new.ipynb\n",
      "13.02.2024  21:38             1.253 break ve continue.ipynb\n",
      "07.03.2024  01:48             3.132 class banka heab�.ipynb\n",
      "08.12.2023  10:43    <DIR>          Contacts\n",
      "05.03.2024  00:37    <DIR>          Desktop\n",
      "05.03.2024  00:36    <DIR>          Documents\n",
      "10.03.2024  18:08             9.225 Dosya_ve_Klasorler(os).ipynb\n",
      "07.03.2024  00:43    <DIR>          Downloads\n",
      "08.12.2023  10:43    <DIR>          Favorites\n",
      "20.02.2024  01:00            17.663 FONKS˜YONLAR.ipynb\n",
      "13.02.2024  20:29            10.854 for d”ng�leri.ipynb\n",
      "04.03.2024  21:37             4.239 input.ipynb\n",
      "29.01.2024  22:43    <DIR>          Kodlama Egzersizleri\n",
      "08.12.2023  10:43    <DIR>          Links\n",
      "31.01.2024  19:56             6.243 MANTIKSAL BA¦LA€LAR.ipynb\n",
      "25.02.2024  23:23            20.123 mod�ller.ipynb\n",
      "08.12.2023  10:43    <DIR>          Music\n",
      "08.12.2023  10:44    <DIR>          OneDrive\n",
      "19.02.2024  19:08    <DIR>          Pictures\n",
      "27.01.2024  20:26    <DIR>          PycharmProjects\n",
      "13.02.2024  21:31             4.822 Range Fonksiyonu.ipynb\n",
      "08.12.2023  10:43    <DIR>          Saved Games\n",
      "08.12.2023  10:43    <DIR>          Searches\n",
      "04.03.2024  23:21             2.870 Try, Except ve Finally Komutlari.ipynb\n",
      "21.02.2024  21:45    <DIR>          Untitled Folder\n",
      "27.01.2024  23:10            14.487 Untitled.ipynb\n",
      "29.01.2024  19:14                72 Untitled1.ipynb\n",
      "13.02.2024  20:30               589 Untitled2.ipynb\n",
      "13.02.2024  23:40             3.200 Untitled3.ipynb\n",
      "17.02.2024  18:43             1.290 Untitled4.ipynb\n",
      "19.02.2024  20:28            10.353 Untitled5.ipynb\n",
      "23.02.2024  23:25             2.839 Untitled6.ipynb\n",
      "24.02.2024  00:31             3.016 Untitled7.ipynb\n",
      "02.03.2024  20:45             8.381 Untitled8.ipynb\n",
      "08.03.2024  19:27               589 Untitled9.ipynb\n",
      "27.02.2024  23:25            21.911 Veri Tipleri.ipynb\n",
      "16.02.2024  09:21    <DIR>          Videos\n",
      "13.02.2024  21:18       123.815.040 While D”ng�leri.ipynb\n",
      "01.03.2024  00:44            18.319 yakin-kampus donguler.ipynb\n",
      "              34 File(s)    124.076.380 bytes\n",
      "              25 Dir(s)  155.305.426.944 bytes free\n"
     ]
    }
   ],
   "source": [
    "%ls"
   ]
  },
  {
   "cell_type": "code",
   "execution_count": 2,
   "metadata": {},
   "outputs": [
    {
     "data": {
      "text/plain": [
       "'C:\\\\Users\\\\321182'"
      ]
     },
     "execution_count": 2,
     "metadata": {},
     "output_type": "execute_result"
    }
   ],
   "source": [
    "%pwd"
   ]
  },
  {
   "cell_type": "markdown",
   "metadata": {},
   "source": [
    "## OS modulü"
   ]
  },
  {
   "cell_type": "markdown",
   "metadata": {},
   "source": [
    "### Navigasyon ve Icerik Listeleme"
   ]
  },
  {
   "cell_type": "code",
   "execution_count": 3,
   "metadata": {},
   "outputs": [],
   "source": [
    "import os"
   ]
  },
  {
   "cell_type": "code",
   "execution_count": 4,
   "metadata": {},
   "outputs": [
    {
     "data": {
      "text/plain": [
       "'C:\\\\Users\\\\321182'"
      ]
     },
     "execution_count": 4,
     "metadata": {},
     "output_type": "execute_result"
    }
   ],
   "source": [
    "os.getcwd()"
   ]
  },
  {
   "cell_type": "code",
   "execution_count": 5,
   "metadata": {},
   "outputs": [
    {
     "data": {
      "text/plain": [
       "['.anaconda',\n",
       " '.conda',\n",
       " '.condarc',\n",
       " '.continuum',\n",
       " '.idlerc',\n",
       " '.ipynb_checkpoints',\n",
       " '.ipython',\n",
       " '.jupyter',\n",
       " '01_Giris_Test_Sorular.ipynb',\n",
       " '03_Fonksiyonlar_Test_Sorular.ipynb',\n",
       " '03_Fonksiyonlar_Test_Sorular_Yanitlar.ipynb',\n",
       " '04_OOP_(Class).ipynb',\n",
       " '1) Python Giriş.ipynb',\n",
       " '3D Objects',\n",
       " 'AppData',\n",
       " 'Application Data',\n",
       " 'asalmi.ipynb',\n",
       " 'asal_sayı_bulma.ipynb',\n",
       " 'Belgelerim',\n",
       " 'break ve continue .ipynb',\n",
       " 'break ve continue new.ipynb',\n",
       " 'break ve continue.ipynb',\n",
       " 'Bölüm3 Koşullu Durumlar.ipynb',\n",
       " 'class banka heabı.ipynb',\n",
       " 'Contacts',\n",
       " 'Cookies',\n",
       " 'Desktop',\n",
       " 'Documents',\n",
       " 'Dosya_ve_Klasorler(os).ipynb',\n",
       " 'Downloads',\n",
       " 'Favorites',\n",
       " 'FONKSİYONLAR.ipynb',\n",
       " 'for döngüleri.ipynb',\n",
       " 'input.ipynb',\n",
       " 'Kodlama Egzersizleri',\n",
       " 'Links',\n",
       " 'Local Settings',\n",
       " 'MANTIKSAL BAĞLAÇLAR.ipynb',\n",
       " 'modüller.ipynb',\n",
       " 'Music',\n",
       " 'NetHood',\n",
       " 'NTUSER.DAT',\n",
       " 'ntuser.dat.LOG1',\n",
       " 'ntuser.dat.LOG2',\n",
       " 'NTUSER.DAT{53b39e88-18c4-11ea-a811-000d3aa4692b}.TM.blf',\n",
       " 'NTUSER.DAT{53b39e88-18c4-11ea-a811-000d3aa4692b}.TMContainer00000000000000000001.regtrans-ms',\n",
       " 'NTUSER.DAT{53b39e88-18c4-11ea-a811-000d3aa4692b}.TMContainer00000000000000000002.regtrans-ms',\n",
       " 'ntuser.ini',\n",
       " 'OneDrive',\n",
       " 'Pictures',\n",
       " 'PrintHood',\n",
       " 'PycharmProjects',\n",
       " 'Range Fonksiyonu.ipynb',\n",
       " 'Recent',\n",
       " 'Saved Games',\n",
       " 'Searches',\n",
       " 'SendTo',\n",
       " 'Start Menu',\n",
       " 'Templates',\n",
       " 'Try, Except ve Finally Komutlari.ipynb',\n",
       " 'Untitled Folder',\n",
       " 'Untitled.ipynb',\n",
       " 'Untitled1.ipynb',\n",
       " 'Untitled2.ipynb',\n",
       " 'Untitled3.ipynb',\n",
       " 'Untitled4.ipynb',\n",
       " 'Untitled5.ipynb',\n",
       " 'Untitled6.ipynb',\n",
       " 'Untitled7.ipynb',\n",
       " 'Untitled8.ipynb',\n",
       " 'Untitled9.ipynb',\n",
       " 'Veri Tipleri.ipynb',\n",
       " 'Videos',\n",
       " 'While Döngüleri.ipynb',\n",
       " 'yakin-kampus donguler.ipynb']"
      ]
     },
     "execution_count": 5,
     "metadata": {},
     "output_type": "execute_result"
    }
   ],
   "source": [
    "os.listdir()"
   ]
  },
  {
   "cell_type": "code",
   "execution_count": 6,
   "metadata": {},
   "outputs": [
    {
     "data": {
      "text/plain": [
       "['321182',\n",
       " '381249',\n",
       " '382362',\n",
       " '434950',\n",
       " 'All Users',\n",
       " 'asys',\n",
       " 'Default',\n",
       " 'Default User',\n",
       " 'desktop.ini',\n",
       " 'Public']"
      ]
     },
     "execution_count": 6,
     "metadata": {},
     "output_type": "execute_result"
    }
   ],
   "source": [
    "os.listdir('C:\\\\Users')"
   ]
  },
  {
   "cell_type": "code",
   "execution_count": 7,
   "metadata": {},
   "outputs": [],
   "source": [
    "os.chdir('C:\\\\Users')"
   ]
  },
  {
   "cell_type": "code",
   "execution_count": 8,
   "metadata": {},
   "outputs": [
    {
     "data": {
      "text/plain": [
       "['321182',\n",
       " '381249',\n",
       " '382362',\n",
       " '434950',\n",
       " 'All Users',\n",
       " 'asys',\n",
       " 'Default',\n",
       " 'Default User',\n",
       " 'desktop.ini',\n",
       " 'Public']"
      ]
     },
     "execution_count": 8,
     "metadata": {},
     "output_type": "execute_result"
    }
   ],
   "source": [
    "os.listdir()"
   ]
  },
  {
   "cell_type": "code",
   "execution_count": 19,
   "metadata": {},
   "outputs": [],
   "source": [
    "os.chdir('C:\\\\Users\\\\321182\\\\')"
   ]
  },
  {
   "cell_type": "code",
   "execution_count": null,
   "metadata": {},
   "outputs": [],
   "source": []
  },
  {
   "cell_type": "code",
   "execution_count": 20,
   "metadata": {},
   "outputs": [
    {
     "name": "stdout",
     "output_type": "stream",
     "text": [
      ".anacondaMESUT\n",
      ".condaMESUT\n",
      ".condarcMESUT\n",
      ".continuumMESUT\n",
      ".idlercMESUT\n",
      ".ipynb_checkpointsMESUT\n",
      ".ipythonMESUT\n",
      ".jupyterMESUT\n",
      "01_Giris_Test_Sorular.ipynbMESUT\n",
      "03_Fonksiyonlar_Test_Sorular.ipynbMESUT\n",
      "03_Fonksiyonlar_Test_Sorular_Yanitlar.ipynbMESUT\n",
      "04_OOP_(Class).ipynbMESUT\n",
      "1) Python Giriş.ipynbMESUT\n",
      "3D ObjectsMESUT\n",
      "AppDataMESUT\n",
      "Application DataMESUT\n",
      "asalmi.ipynbMESUT\n",
      "asal_sayı_bulma.ipynbMESUT\n",
      "BelgelerimMESUT\n",
      "break ve continue .ipynbMESUT\n",
      "break ve continue new.ipynbMESUT\n",
      "break ve continue.ipynbMESUT\n",
      "Bölüm3 Koşullu Durumlar.ipynbMESUT\n",
      "class banka heabı.ipynbMESUT\n",
      "ContactsMESUT\n",
      "CookiesMESUT\n",
      "deneme_kMESUT\n",
      "deneme_klasoruMESUT\n",
      "DesktopMESUT\n",
      "DocumentsMESUT\n",
      "Dosya_ve_Klasorler(os).ipynbMESUT\n",
      "DownloadsMESUT\n",
      "FavoritesMESUT\n",
      "FONKSİYONLAR.ipynbMESUT\n",
      "for döngüleri.ipynbMESUT\n",
      "input.ipynbMESUT\n",
      "Kodlama EgzersizleriMESUT\n",
      "LinksMESUT\n",
      "Local SettingsMESUT\n",
      "MANTIKSAL BAĞLAÇLAR.ipynbMESUT\n",
      "modüller.ipynbMESUT\n",
      "MusicMESUT\n",
      "NetHoodMESUT\n",
      "NTUSER.DATMESUT\n",
      "ntuser.dat.LOG1MESUT\n",
      "ntuser.dat.LOG2MESUT\n",
      "NTUSER.DAT{53b39e88-18c4-11ea-a811-000d3aa4692b}.TM.blfMESUT\n",
      "NTUSER.DAT{53b39e88-18c4-11ea-a811-000d3aa4692b}.TMContainer00000000000000000001.regtrans-msMESUT\n",
      "NTUSER.DAT{53b39e88-18c4-11ea-a811-000d3aa4692b}.TMContainer00000000000000000002.regtrans-msMESUT\n",
      "ntuser.iniMESUT\n",
      "OneDriveMESUT\n",
      "PicturesMESUT\n",
      "PrintHoodMESUT\n",
      "PycharmProjectsMESUT\n",
      "Range Fonksiyonu.ipynbMESUT\n",
      "RecentMESUT\n",
      "Saved GamesMESUT\n",
      "SearchesMESUT\n",
      "SendToMESUT\n",
      "Start MenuMESUT\n",
      "TemplatesMESUT\n",
      "Try, Except ve Finally Komutlari.ipynbMESUT\n",
      "Untitled FolderMESUT\n",
      "Untitled.ipynbMESUT\n",
      "Untitled1.ipynbMESUT\n",
      "Untitled2.ipynbMESUT\n",
      "Untitled3.ipynbMESUT\n",
      "Untitled4.ipynbMESUT\n",
      "Untitled5.ipynbMESUT\n",
      "Untitled6.ipynbMESUT\n",
      "Untitled7.ipynbMESUT\n",
      "Untitled8.ipynbMESUT\n",
      "Untitled9.ipynbMESUT\n",
      "Veri Tipleri.ipynbMESUT\n",
      "VideosMESUT\n",
      "While Döngüleri.ipynbMESUT\n",
      "yakin-kampus donguler.ipynbMESUT\n"
     ]
    }
   ],
   "source": [
    "dosyalar = os.listdir()\n",
    "for eleman in dosyalar:\n",
    "    print(eleman + 'MESUT')"
   ]
  },
  {
   "cell_type": "markdown",
   "metadata": {},
   "source": [
    "### Yeni Eleman Olusturma, Isim Degistirme ve Silme"
   ]
  },
  {
   "cell_type": "code",
   "execution_count": 21,
   "metadata": {},
   "outputs": [],
   "source": [
    "os.mkdir('C:\\\\Users\\\\321182\\\\deneme_klasoru2')"
   ]
  },
  {
   "cell_type": "code",
   "execution_count": 22,
   "metadata": {},
   "outputs": [
    {
     "data": {
      "text/plain": [
       "['.anaconda',\n",
       " '.conda',\n",
       " '.condarc',\n",
       " '.continuum',\n",
       " '.idlerc',\n",
       " '.ipynb_checkpoints',\n",
       " '.ipython',\n",
       " '.jupyter',\n",
       " '01_Giris_Test_Sorular.ipynb',\n",
       " '03_Fonksiyonlar_Test_Sorular.ipynb',\n",
       " '03_Fonksiyonlar_Test_Sorular_Yanitlar.ipynb',\n",
       " '04_OOP_(Class).ipynb',\n",
       " '1) Python Giriş.ipynb',\n",
       " '3D Objects',\n",
       " 'AppData',\n",
       " 'Application Data',\n",
       " 'asalmi.ipynb',\n",
       " 'asal_sayı_bulma.ipynb',\n",
       " 'Belgelerim',\n",
       " 'break ve continue .ipynb',\n",
       " 'break ve continue new.ipynb',\n",
       " 'break ve continue.ipynb',\n",
       " 'Bölüm3 Koşullu Durumlar.ipynb',\n",
       " 'class banka heabı.ipynb',\n",
       " 'Contacts',\n",
       " 'Cookies',\n",
       " 'deneme_k',\n",
       " 'deneme_klasoru',\n",
       " 'deneme_klasoru2',\n",
       " 'Desktop',\n",
       " 'Documents',\n",
       " 'Dosya_ve_Klasorler(os).ipynb',\n",
       " 'Downloads',\n",
       " 'Favorites',\n",
       " 'FONKSİYONLAR.ipynb',\n",
       " 'for döngüleri.ipynb',\n",
       " 'input.ipynb',\n",
       " 'Kodlama Egzersizleri',\n",
       " 'Links',\n",
       " 'Local Settings',\n",
       " 'MANTIKSAL BAĞLAÇLAR.ipynb',\n",
       " 'modüller.ipynb',\n",
       " 'Music',\n",
       " 'NetHood',\n",
       " 'NTUSER.DAT',\n",
       " 'ntuser.dat.LOG1',\n",
       " 'ntuser.dat.LOG2',\n",
       " 'NTUSER.DAT{53b39e88-18c4-11ea-a811-000d3aa4692b}.TM.blf',\n",
       " 'NTUSER.DAT{53b39e88-18c4-11ea-a811-000d3aa4692b}.TMContainer00000000000000000001.regtrans-ms',\n",
       " 'NTUSER.DAT{53b39e88-18c4-11ea-a811-000d3aa4692b}.TMContainer00000000000000000002.regtrans-ms',\n",
       " 'ntuser.ini',\n",
       " 'OneDrive',\n",
       " 'Pictures',\n",
       " 'PrintHood',\n",
       " 'PycharmProjects',\n",
       " 'Range Fonksiyonu.ipynb',\n",
       " 'Recent',\n",
       " 'Saved Games',\n",
       " 'Searches',\n",
       " 'SendTo',\n",
       " 'Start Menu',\n",
       " 'Templates',\n",
       " 'Try, Except ve Finally Komutlari.ipynb',\n",
       " 'Untitled Folder',\n",
       " 'Untitled.ipynb',\n",
       " 'Untitled1.ipynb',\n",
       " 'Untitled2.ipynb',\n",
       " 'Untitled3.ipynb',\n",
       " 'Untitled4.ipynb',\n",
       " 'Untitled5.ipynb',\n",
       " 'Untitled6.ipynb',\n",
       " 'Untitled7.ipynb',\n",
       " 'Untitled8.ipynb',\n",
       " 'Untitled9.ipynb',\n",
       " 'Veri Tipleri.ipynb',\n",
       " 'Videos',\n",
       " 'While Döngüleri.ipynb',\n",
       " 'yakin-kampus donguler.ipynb']"
      ]
     },
     "execution_count": 22,
     "metadata": {},
     "output_type": "execute_result"
    }
   ],
   "source": [
    "os.listdir()"
   ]
  },
  {
   "cell_type": "code",
   "execution_count": 23,
   "metadata": {},
   "outputs": [],
   "source": [
    "os.rmdir('C:\\\\Users\\\\321182\\\\deneme_klasoru2')"
   ]
  },
  {
   "cell_type": "code",
   "execution_count": 24,
   "metadata": {},
   "outputs": [
    {
     "data": {
      "text/plain": [
       "['.anaconda',\n",
       " '.conda',\n",
       " '.condarc',\n",
       " '.continuum',\n",
       " '.idlerc',\n",
       " '.ipynb_checkpoints',\n",
       " '.ipython',\n",
       " '.jupyter',\n",
       " '01_Giris_Test_Sorular.ipynb',\n",
       " '03_Fonksiyonlar_Test_Sorular.ipynb',\n",
       " '03_Fonksiyonlar_Test_Sorular_Yanitlar.ipynb',\n",
       " '04_OOP_(Class).ipynb',\n",
       " '1) Python Giriş.ipynb',\n",
       " '3D Objects',\n",
       " 'AppData',\n",
       " 'Application Data',\n",
       " 'asalmi.ipynb',\n",
       " 'asal_sayı_bulma.ipynb',\n",
       " 'Belgelerim',\n",
       " 'break ve continue .ipynb',\n",
       " 'break ve continue new.ipynb',\n",
       " 'break ve continue.ipynb',\n",
       " 'Bölüm3 Koşullu Durumlar.ipynb',\n",
       " 'class banka heabı.ipynb',\n",
       " 'Contacts',\n",
       " 'Cookies',\n",
       " 'deneme_k',\n",
       " 'deneme_klasoru',\n",
       " 'Desktop',\n",
       " 'Documents',\n",
       " 'Dosya_ve_Klasorler(os).ipynb',\n",
       " 'Downloads',\n",
       " 'Favorites',\n",
       " 'FONKSİYONLAR.ipynb',\n",
       " 'for döngüleri.ipynb',\n",
       " 'input.ipynb',\n",
       " 'Kodlama Egzersizleri',\n",
       " 'Links',\n",
       " 'Local Settings',\n",
       " 'MANTIKSAL BAĞLAÇLAR.ipynb',\n",
       " 'modüller.ipynb',\n",
       " 'Music',\n",
       " 'NetHood',\n",
       " 'NTUSER.DAT',\n",
       " 'ntuser.dat.LOG1',\n",
       " 'ntuser.dat.LOG2',\n",
       " 'NTUSER.DAT{53b39e88-18c4-11ea-a811-000d3aa4692b}.TM.blf',\n",
       " 'NTUSER.DAT{53b39e88-18c4-11ea-a811-000d3aa4692b}.TMContainer00000000000000000001.regtrans-ms',\n",
       " 'NTUSER.DAT{53b39e88-18c4-11ea-a811-000d3aa4692b}.TMContainer00000000000000000002.regtrans-ms',\n",
       " 'ntuser.ini',\n",
       " 'OneDrive',\n",
       " 'Pictures',\n",
       " 'PrintHood',\n",
       " 'PycharmProjects',\n",
       " 'Range Fonksiyonu.ipynb',\n",
       " 'Recent',\n",
       " 'Saved Games',\n",
       " 'Searches',\n",
       " 'SendTo',\n",
       " 'Start Menu',\n",
       " 'Templates',\n",
       " 'Try, Except ve Finally Komutlari.ipynb',\n",
       " 'Untitled Folder',\n",
       " 'Untitled.ipynb',\n",
       " 'Untitled1.ipynb',\n",
       " 'Untitled2.ipynb',\n",
       " 'Untitled3.ipynb',\n",
       " 'Untitled4.ipynb',\n",
       " 'Untitled5.ipynb',\n",
       " 'Untitled6.ipynb',\n",
       " 'Untitled7.ipynb',\n",
       " 'Untitled8.ipynb',\n",
       " 'Untitled9.ipynb',\n",
       " 'Veri Tipleri.ipynb',\n",
       " 'Videos',\n",
       " 'While Döngüleri.ipynb',\n",
       " 'yakin-kampus donguler.ipynb']"
      ]
     },
     "execution_count": 24,
     "metadata": {},
     "output_type": "execute_result"
    }
   ],
   "source": [
    "os.listdir()"
   ]
  },
  {
   "cell_type": "code",
   "execution_count": 25,
   "metadata": {},
   "outputs": [],
   "source": [
    "## os.O_RDONLY − Read Only      - Sadece Oku\n",
    "## os.O_WRONLY − Write Only     - Sadece Yaz\n",
    "## os.O_RDWR   − Read and Write - Oku ve Yaz\n",
    "## os.O_CREAT  - Create         - Olustur\n",
    "\n",
    "yeni_dosya = os.open('yeni_dosya.txt', os.O_RDWR|os.O_CREAT)\n",
    "os.write(yeni_dosya, \"Merhaba dünya!\".encode())\n",
    "os.close(yeni_dosya)"
   ]
  },
  {
   "cell_type": "code",
   "execution_count": 27,
   "metadata": {},
   "outputs": [
    {
     "name": "stdout",
     "output_type": "stream",
     "text": [
      "Merhaba dünya!\n"
     ]
    }
   ],
   "source": [
    "yeni_dosya = os.open('yeni_dosya.txt', os.O_RDONLY)\n",
    "uzunluk = os.stat(yeni_dosya).st_size\n",
    "icerik = os.read(yeni_dosya,uzunluk)\n",
    "print(icerik.decode())\n",
    "os.close(yeni_dosya)"
   ]
  },
  {
   "cell_type": "code",
   "execution_count": 28,
   "metadata": {},
   "outputs": [],
   "source": [
    "os.unlink('yeni_dosya.txt')"
   ]
  },
  {
   "cell_type": "code",
   "execution_count": 29,
   "metadata": {},
   "outputs": [],
   "source": [
    "os.mkdir(\"deneme_yeni\")"
   ]
  },
  {
   "cell_type": "code",
   "execution_count": 30,
   "metadata": {},
   "outputs": [
    {
     "data": {
      "text/plain": [
       "['.anaconda',\n",
       " '.conda',\n",
       " '.condarc',\n",
       " '.continuum',\n",
       " '.idlerc',\n",
       " '.ipynb_checkpoints',\n",
       " '.ipython',\n",
       " '.jupyter',\n",
       " '01_Giris_Test_Sorular.ipynb',\n",
       " '03_Fonksiyonlar_Test_Sorular.ipynb',\n",
       " '03_Fonksiyonlar_Test_Sorular_Yanitlar.ipynb',\n",
       " '04_OOP_(Class).ipynb',\n",
       " '1) Python Giriş.ipynb',\n",
       " '3D Objects',\n",
       " 'AppData',\n",
       " 'Application Data',\n",
       " 'asalmi.ipynb',\n",
       " 'asal_sayı_bulma.ipynb',\n",
       " 'Belgelerim',\n",
       " 'break ve continue .ipynb',\n",
       " 'break ve continue new.ipynb',\n",
       " 'break ve continue.ipynb',\n",
       " 'Bölüm3 Koşullu Durumlar.ipynb',\n",
       " 'class banka heabı.ipynb',\n",
       " 'Contacts',\n",
       " 'Cookies',\n",
       " 'deneme_k',\n",
       " 'deneme_klasoru',\n",
       " 'deneme_yeni',\n",
       " 'Desktop',\n",
       " 'Documents',\n",
       " 'Dosya_ve_Klasorler(os).ipynb',\n",
       " 'Downloads',\n",
       " 'Favorites',\n",
       " 'FONKSİYONLAR.ipynb',\n",
       " 'for döngüleri.ipynb',\n",
       " 'input.ipynb',\n",
       " 'Kodlama Egzersizleri',\n",
       " 'Links',\n",
       " 'Local Settings',\n",
       " 'MANTIKSAL BAĞLAÇLAR.ipynb',\n",
       " 'modüller.ipynb',\n",
       " 'Music',\n",
       " 'NetHood',\n",
       " 'NTUSER.DAT',\n",
       " 'ntuser.dat.LOG1',\n",
       " 'ntuser.dat.LOG2',\n",
       " 'NTUSER.DAT{53b39e88-18c4-11ea-a811-000d3aa4692b}.TM.blf',\n",
       " 'NTUSER.DAT{53b39e88-18c4-11ea-a811-000d3aa4692b}.TMContainer00000000000000000001.regtrans-ms',\n",
       " 'NTUSER.DAT{53b39e88-18c4-11ea-a811-000d3aa4692b}.TMContainer00000000000000000002.regtrans-ms',\n",
       " 'ntuser.ini',\n",
       " 'OneDrive',\n",
       " 'Pictures',\n",
       " 'PrintHood',\n",
       " 'PycharmProjects',\n",
       " 'Range Fonksiyonu.ipynb',\n",
       " 'Recent',\n",
       " 'Saved Games',\n",
       " 'Searches',\n",
       " 'SendTo',\n",
       " 'Start Menu',\n",
       " 'Templates',\n",
       " 'Try, Except ve Finally Komutlari.ipynb',\n",
       " 'Untitled Folder',\n",
       " 'Untitled.ipynb',\n",
       " 'Untitled1.ipynb',\n",
       " 'Untitled10.ipynb',\n",
       " 'Untitled2.ipynb',\n",
       " 'Untitled3.ipynb',\n",
       " 'Untitled4.ipynb',\n",
       " 'Untitled5.ipynb',\n",
       " 'Untitled6.ipynb',\n",
       " 'Untitled7.ipynb',\n",
       " 'Untitled8.ipynb',\n",
       " 'Untitled9.ipynb',\n",
       " 'Veri Tipleri.ipynb',\n",
       " 'Videos',\n",
       " 'While Döngüleri.ipynb',\n",
       " 'yakin-kampus donguler.ipynb']"
      ]
     },
     "execution_count": 30,
     "metadata": {},
     "output_type": "execute_result"
    }
   ],
   "source": [
    "os.listdir()"
   ]
  },
  {
   "cell_type": "code",
   "execution_count": 31,
   "metadata": {},
   "outputs": [],
   "source": [
    "os.rename(\"deneme_yeni\", \"deneme_eski\")"
   ]
  },
  {
   "cell_type": "code",
   "execution_count": 32,
   "metadata": {},
   "outputs": [
    {
     "data": {
      "text/plain": [
       "['.anaconda',\n",
       " '.conda',\n",
       " '.condarc',\n",
       " '.continuum',\n",
       " '.idlerc',\n",
       " '.ipynb_checkpoints',\n",
       " '.ipython',\n",
       " '.jupyter',\n",
       " '01_Giris_Test_Sorular.ipynb',\n",
       " '03_Fonksiyonlar_Test_Sorular.ipynb',\n",
       " '03_Fonksiyonlar_Test_Sorular_Yanitlar.ipynb',\n",
       " '04_OOP_(Class).ipynb',\n",
       " '1) Python Giriş.ipynb',\n",
       " '3D Objects',\n",
       " 'AppData',\n",
       " 'Application Data',\n",
       " 'asalmi.ipynb',\n",
       " 'asal_sayı_bulma.ipynb',\n",
       " 'Belgelerim',\n",
       " 'break ve continue .ipynb',\n",
       " 'break ve continue new.ipynb',\n",
       " 'break ve continue.ipynb',\n",
       " 'Bölüm3 Koşullu Durumlar.ipynb',\n",
       " 'class banka heabı.ipynb',\n",
       " 'Contacts',\n",
       " 'Cookies',\n",
       " 'deneme_eski',\n",
       " 'deneme_k',\n",
       " 'deneme_klasoru',\n",
       " 'Desktop',\n",
       " 'Documents',\n",
       " 'Dosya_ve_Klasorler(os).ipynb',\n",
       " 'Downloads',\n",
       " 'Favorites',\n",
       " 'FONKSİYONLAR.ipynb',\n",
       " 'for döngüleri.ipynb',\n",
       " 'input.ipynb',\n",
       " 'Kodlama Egzersizleri',\n",
       " 'Links',\n",
       " 'Local Settings',\n",
       " 'MANTIKSAL BAĞLAÇLAR.ipynb',\n",
       " 'modüller.ipynb',\n",
       " 'Music',\n",
       " 'NetHood',\n",
       " 'NTUSER.DAT',\n",
       " 'ntuser.dat.LOG1',\n",
       " 'ntuser.dat.LOG2',\n",
       " 'NTUSER.DAT{53b39e88-18c4-11ea-a811-000d3aa4692b}.TM.blf',\n",
       " 'NTUSER.DAT{53b39e88-18c4-11ea-a811-000d3aa4692b}.TMContainer00000000000000000001.regtrans-ms',\n",
       " 'NTUSER.DAT{53b39e88-18c4-11ea-a811-000d3aa4692b}.TMContainer00000000000000000002.regtrans-ms',\n",
       " 'ntuser.ini',\n",
       " 'OneDrive',\n",
       " 'Pictures',\n",
       " 'PrintHood',\n",
       " 'PycharmProjects',\n",
       " 'Range Fonksiyonu.ipynb',\n",
       " 'Recent',\n",
       " 'Saved Games',\n",
       " 'Searches',\n",
       " 'SendTo',\n",
       " 'Start Menu',\n",
       " 'Templates',\n",
       " 'Try, Except ve Finally Komutlari.ipynb',\n",
       " 'Untitled Folder',\n",
       " 'Untitled.ipynb',\n",
       " 'Untitled1.ipynb',\n",
       " 'Untitled10.ipynb',\n",
       " 'Untitled2.ipynb',\n",
       " 'Untitled3.ipynb',\n",
       " 'Untitled4.ipynb',\n",
       " 'Untitled5.ipynb',\n",
       " 'Untitled6.ipynb',\n",
       " 'Untitled7.ipynb',\n",
       " 'Untitled8.ipynb',\n",
       " 'Untitled9.ipynb',\n",
       " 'Veri Tipleri.ipynb',\n",
       " 'Videos',\n",
       " 'While Döngüleri.ipynb',\n",
       " 'yakin-kampus donguler.ipynb']"
      ]
     },
     "execution_count": 32,
     "metadata": {},
     "output_type": "execute_result"
    }
   ],
   "source": [
    "os.listdir()"
   ]
  },
  {
   "cell_type": "code",
   "execution_count": null,
   "metadata": {},
   "outputs": [],
   "source": []
  },
  {
   "cell_type": "code",
   "execution_count": null,
   "metadata": {},
   "outputs": [],
   "source": []
  }
 ],
 "metadata": {
  "kernelspec": {
   "display_name": "Python 3 (ipykernel)",
   "language": "python",
   "name": "python3"
  },
  "language_info": {
   "codemirror_mode": {
    "name": "ipython",
    "version": 3
   },
   "file_extension": ".py",
   "mimetype": "text/x-python",
   "name": "python",
   "nbconvert_exporter": "python",
   "pygments_lexer": "ipython3",
   "version": "3.11.5"
  }
 },
 "nbformat": 4,
 "nbformat_minor": 4
}
