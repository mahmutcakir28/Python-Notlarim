{
 "cells": [
  {
   "cell_type": "code",
   "execution_count": 1,
   "id": "dad59741",
   "metadata": {},
   "outputs": [
    {
     "name": "stdout",
     "output_type": "stream",
     "text": [
      "Hesap Makinesi\n",
      "Yapmak istediğiniz işlemi seçiniz:\n",
      "1. Toplama\n",
      "2. Çıkarma\n",
      "3. Çarpma\n",
      "4. Bölme\n",
      "Seçiminiz (1/2/3/4): 1\n",
      "Birinci sayıyı girin: 2\n",
      "İkinci sayıyı girin: 2\n",
      "Sonuç: 4.0\n"
     ]
    }
   ],
   "source": [
    "def toplama(x, y):\n",
    "    return x + y\n",
    "\n",
    "def cikarma(x, y):\n",
    "    return x - y\n",
    "\n",
    "def carpma(x, y):\n",
    "    return x * y\n",
    "\n",
    "def bolme(x, y):\n",
    "    if y == 0:\n",
    "        return \"Bölen sıfır olamaz!\"\n",
    "    return x / y\n",
    "\n",
    "print(\"Hesap Makinesi\")\n",
    "print(\"Yapmak istediğiniz işlemi seçiniz:\")\n",
    "print(\"1. Toplama\")\n",
    "print(\"2. Çıkarma\")\n",
    "print(\"3. Çarpma\")\n",
    "print(\"4. Bölme\")\n",
    "\n",
    "secim = input(\"Seçiminiz (1/2/3/4): \")\n",
    "\n",
    "if secim not in ['1', '2', '3', '4']:\n",
    "    print(\"Geçersiz seçim!\")\n",
    "else:\n",
    "    sayi1 = float(input(\"Birinci sayıyı girin: \"))\n",
    "    sayi2 = float(input(\"İkinci sayıyı girin: \"))\n",
    "\n",
    "    if secim == '1':\n",
    "        print(\"Sonuç:\", toplama(sayi1, sayi2))\n",
    "    elif secim == '2':\n",
    "        print(\"Sonuç:\", cikarma(sayi1, sayi2))\n",
    "    elif secim == '3':\n",
    "        print(\"Sonuç:\", carpma(sayi1, sayi2))\n",
    "    elif secim == '4':\n",
    "        print(\"Sonuç:\", bolme(sayi1, sayi2))\n"
   ]
  },
  {
   "cell_type": "code",
   "execution_count": null,
   "id": "dd096169",
   "metadata": {},
   "outputs": [],
   "source": []
  }
 ],
 "metadata": {
  "kernelspec": {
   "display_name": "Python 3 (ipykernel)",
   "language": "python",
   "name": "python3"
  },
  "language_info": {
   "codemirror_mode": {
    "name": "ipython",
    "version": 3
   },
   "file_extension": ".py",
   "mimetype": "text/x-python",
   "name": "python",
   "nbconvert_exporter": "python",
   "pygments_lexer": "ipython3",
   "version": "3.11.5"
  }
 },
 "nbformat": 4,
 "nbformat_minor": 5
}
