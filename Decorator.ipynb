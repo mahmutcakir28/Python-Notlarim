{
 "cells": [
  {
   "cell_type": "markdown",
   "id": "96bff2bc",
   "metadata": {},
   "source": [
    "# Decorator Prensibi"
   ]
  },
  {
   "cell_type": "code",
   "execution_count": null,
   "id": "f9e56336",
   "metadata": {},
   "outputs": [],
   "source": [
    "@decorator\n",
    "def...."
   ]
  },
  {
   "cell_type": "code",
   "execution_count": 6,
   "id": "b8df2913",
   "metadata": {},
   "outputs": [
    {
     "name": "stdout",
     "output_type": "stream",
     "text": [
      "baslangic\n",
      "yazdir\n",
      "Bitis\n"
     ]
    }
   ],
   "source": [
    "def deco(f):\n",
    "    def wrapper():\n",
    "        print(\"baslangic\")\n",
    "        \n",
    "        f()\n",
    "        \n",
    "        print(\"Bitis\")\n",
    "     \n",
    "    return wrapper\n",
    "\n",
    "def yazdir():\n",
    "    print(\"yazdir\")\n",
    "    \n",
    "yazdir = deco(yazdir)\n",
    "\n",
    "yazdir()"
   ]
  },
  {
   "cell_type": "code",
   "execution_count": 12,
   "id": "3c2f0896",
   "metadata": {},
   "outputs": [],
   "source": [
    "import time"
   ]
  },
  {
   "cell_type": "code",
   "execution_count": 13,
   "id": "b1baf2ef",
   "metadata": {},
   "outputs": [],
   "source": [
    "baslangic = time.time()\n",
    "\n",
    "f()\n"
   ]
  },
  {
   "cell_type": "code",
   "execution_count": null,
   "id": "15548429",
   "metadata": {},
   "outputs": [],
   "source": []
  },
  {
   "cell_type": "code",
   "execution_count": null,
   "id": "76b7670e",
   "metadata": {},
   "outputs": [],
   "source": []
  },
  {
   "cell_type": "code",
   "execution_count": null,
   "id": "817fe0c0",
   "metadata": {},
   "outputs": [],
   "source": []
  },
  {
   "cell_type": "code",
   "execution_count": null,
   "id": "5b60cb71",
   "metadata": {},
   "outputs": [],
   "source": []
  },
  {
   "cell_type": "code",
   "execution_count": null,
   "id": "229093a1",
   "metadata": {},
   "outputs": [],
   "source": []
  },
  {
   "cell_type": "code",
   "execution_count": null,
   "id": "817044f1",
   "metadata": {},
   "outputs": [],
   "source": []
  }
 ],
 "metadata": {
  "kernelspec": {
   "display_name": "Python 3 (ipykernel)",
   "language": "python",
   "name": "python3"
  },
  "language_info": {
   "codemirror_mode": {
    "name": "ipython",
    "version": 3
   },
   "file_extension": ".py",
   "mimetype": "text/x-python",
   "name": "python",
   "nbconvert_exporter": "python",
   "pygments_lexer": "ipython3",
   "version": "3.11.5"
  }
 },
 "nbformat": 4,
 "nbformat_minor": 5
}
